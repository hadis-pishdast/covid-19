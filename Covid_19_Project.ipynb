{
  "nbformat": 4,
  "nbformat_minor": 0,
  "metadata": {
    "colab": {
      "name": "Covid-19 Project.ipynb ",
      "provenance": [],
      "collapsed_sections": []
    },
    "kernelspec": {
      "name": "python3",
      "display_name": "Python 3"
    }
  },
  "cells": [
    {
      "cell_type": "code",
      "metadata": {
        "id": "SmUbLanvGk8x",
        "colab_type": "code",
        "colab": {}
      },
      "source": [
        "import pandas as pd;\n",
        "import numpy as np\n",
        "import seaborn as sns\n",
        "import datetime;\n",
        "import matplotlib.pyplot as plt;"
      ],
      "execution_count": null,
      "outputs": []
    },
    {
      "cell_type": "code",
      "metadata": {
        "id": "SD1hH29vSf2z",
        "colab_type": "code",
        "colab": {}
      },
      "source": [
        "#https://towardsdatascience.com/covid-19-data-processing-58aaa3663f6"
      ],
      "execution_count": null,
      "outputs": []
    },
    {
      "cell_type": "code",
      "metadata": {
        "id": "NF-M2b9fNbvk",
        "colab_type": "code",
        "colab": {}
      },
      "source": [
        "df_agg = pd.read_csv('https://raw.githubusercontent.com/datasets/covid-19/master/data/countries-aggregated.csv')"
      ],
      "execution_count": null,
      "outputs": []
    },
    {
      "cell_type": "code",
      "metadata": {
        "id": "1C6PB_jtAgGq",
        "colab_type": "code",
        "colab": {}
      },
      "source": [
        "#changing the datatype for 'Date' column\n",
        "df_agg['Date'] = pd.to_datetime(df_agg['Date'])\n",
        "\n",
        "#adding 'Active' cases column in order to find people who are currently sick\n",
        "df_agg['Active'] = df_agg['Confirmed'] - df_agg['Deaths'] - df_agg['Recovered']"
      ],
      "execution_count": null,
      "outputs": []
    },
    {
      "cell_type": "code",
      "metadata": {
        "id": "o2NvdeLTUSfA",
        "colab_type": "code",
        "colab": {
          "base_uri": "https://localhost:8080/",
          "height": 195
        },
        "outputId": "08387390-995e-4cd8-8155-1a8115e1ff57"
      },
      "source": [
        "df_agg.sample(5)"
      ],
      "execution_count": null,
      "outputs": [
        {
          "output_type": "execute_result",
          "data": {
            "text/html": [
              "<div>\n",
              "<style scoped>\n",
              "    .dataframe tbody tr th:only-of-type {\n",
              "        vertical-align: middle;\n",
              "    }\n",
              "\n",
              "    .dataframe tbody tr th {\n",
              "        vertical-align: top;\n",
              "    }\n",
              "\n",
              "    .dataframe thead th {\n",
              "        text-align: right;\n",
              "    }\n",
              "</style>\n",
              "<table border=\"1\" class=\"dataframe\">\n",
              "  <thead>\n",
              "    <tr style=\"text-align: right;\">\n",
              "      <th></th>\n",
              "      <th>Date</th>\n",
              "      <th>Country</th>\n",
              "      <th>Confirmed</th>\n",
              "      <th>Recovered</th>\n",
              "      <th>Deaths</th>\n",
              "      <th>Active</th>\n",
              "    </tr>\n",
              "  </thead>\n",
              "  <tbody>\n",
              "    <tr>\n",
              "      <th>16181</th>\n",
              "      <td>2020-04-17</td>\n",
              "      <td>Bangladesh</td>\n",
              "      <td>1838</td>\n",
              "      <td>58</td>\n",
              "      <td>75</td>\n",
              "      <td>1705</td>\n",
              "    </tr>\n",
              "    <tr>\n",
              "      <th>25972</th>\n",
              "      <td>2020-06-08</td>\n",
              "      <td>Burundi</td>\n",
              "      <td>83</td>\n",
              "      <td>45</td>\n",
              "      <td>1</td>\n",
              "      <td>37</td>\n",
              "    </tr>\n",
              "    <tr>\n",
              "      <th>10879</th>\n",
              "      <td>2020-03-19</td>\n",
              "      <td>Switzerland</td>\n",
              "      <td>4075</td>\n",
              "      <td>15</td>\n",
              "      <td>41</td>\n",
              "      <td>4019</td>\n",
              "    </tr>\n",
              "    <tr>\n",
              "      <th>8946</th>\n",
              "      <td>2020-03-09</td>\n",
              "      <td>Malta</td>\n",
              "      <td>3</td>\n",
              "      <td>0</td>\n",
              "      <td>0</td>\n",
              "      <td>3</td>\n",
              "    </tr>\n",
              "    <tr>\n",
              "      <th>14164</th>\n",
              "      <td>2020-04-06</td>\n",
              "      <td>Gambia</td>\n",
              "      <td>4</td>\n",
              "      <td>2</td>\n",
              "      <td>1</td>\n",
              "      <td>1</td>\n",
              "    </tr>\n",
              "  </tbody>\n",
              "</table>\n",
              "</div>"
            ],
            "text/plain": [
              "            Date      Country  Confirmed  Recovered  Deaths  Active\n",
              "16181 2020-04-17   Bangladesh       1838         58      75    1705\n",
              "25972 2020-06-08      Burundi         83         45       1      37\n",
              "10879 2020-03-19  Switzerland       4075         15      41    4019\n",
              "8946  2020-03-09        Malta          3          0       0       3\n",
              "14164 2020-04-06       Gambia          4          2       1       1"
            ]
          },
          "metadata": {
            "tags": []
          },
          "execution_count": 204
        }
      ]
    },
    {
      "cell_type": "code",
      "metadata": {
        "id": "ZGffFyrgz4co",
        "colab_type": "code",
        "colab": {}
      },
      "source": [
        "#df1 = df1.rename(columns={'Date':'date','Country':'country','Confirmed':'confirmed','Deaths':'deaths','Recovered':'recovered'})"
      ],
      "execution_count": null,
      "outputs": []
    },
    {
      "cell_type": "code",
      "metadata": {
        "id": "B_9BDEeJ5cXq",
        "colab_type": "code",
        "colab": {}
      },
      "source": [
        "#showing numbers of infected poeple worldwide\n",
        "cases_max = df_agg.groupby('Country').max()\n",
        "cases_worldwide=cases_max.sum().reset_index()\n",
        "cases_worldwide.columns=['State','Number of cases']"
      ],
      "execution_count": null,
      "outputs": []
    },
    {
      "cell_type": "code",
      "metadata": {
        "id": "GErN5rzdwtsZ",
        "colab_type": "code",
        "colab": {
          "base_uri": "https://localhost:8080/",
          "height": 166
        },
        "outputId": "42bce47e-65a4-4c75-bb4f-2aa364266c6e"
      },
      "source": [
        "cases_worldwide"
      ],
      "execution_count": null,
      "outputs": [
        {
          "output_type": "execute_result",
          "data": {
            "text/html": [
              "<div>\n",
              "<style scoped>\n",
              "    .dataframe tbody tr th:only-of-type {\n",
              "        vertical-align: middle;\n",
              "    }\n",
              "\n",
              "    .dataframe tbody tr th {\n",
              "        vertical-align: top;\n",
              "    }\n",
              "\n",
              "    .dataframe thead th {\n",
              "        text-align: right;\n",
              "    }\n",
              "</style>\n",
              "<table border=\"1\" class=\"dataframe\">\n",
              "  <thead>\n",
              "    <tr style=\"text-align: right;\">\n",
              "      <th></th>\n",
              "      <th>State</th>\n",
              "      <th>Number of cases</th>\n",
              "    </tr>\n",
              "  </thead>\n",
              "  <tbody>\n",
              "    <tr>\n",
              "      <th>0</th>\n",
              "      <td>Confirmed</td>\n",
              "      <td>7119539</td>\n",
              "    </tr>\n",
              "    <tr>\n",
              "      <th>1</th>\n",
              "      <td>Recovered</td>\n",
              "      <td>3293572</td>\n",
              "    </tr>\n",
              "    <tr>\n",
              "      <th>2</th>\n",
              "      <td>Deaths</td>\n",
              "      <td>408139</td>\n",
              "    </tr>\n",
              "    <tr>\n",
              "      <th>3</th>\n",
              "      <td>Active</td>\n",
              "      <td>4010042</td>\n",
              "    </tr>\n",
              "  </tbody>\n",
              "</table>\n",
              "</div>"
            ],
            "text/plain": [
              "       State  Number of cases\n",
              "0  Confirmed          7119539\n",
              "1  Recovered          3293572\n",
              "2     Deaths           408139\n",
              "3     Active          4010042"
            ]
          },
          "metadata": {
            "tags": []
          },
          "execution_count": 207
        }
      ]
    },
    {
      "cell_type": "code",
      "metadata": {
        "id": "NpUqv2GC6Udm",
        "colab_type": "code",
        "colab": {
          "base_uri": "https://localhost:8080/",
          "height": 295
        },
        "outputId": "4b3d6988-e68b-4ff5-9944-61ae404ac396"
      },
      "source": [
        "ax = plt.subplot()\n",
        "sns.barplot(x='State', y='Number of cases', data=cases_worldwide)\n",
        "plt.title('COVID-19 Cases Worldwide')\n",
        "#plt.xlabel('cases category-wise')\n",
        "plt.ylabel('population infected')\n",
        "ax.spines['right'].set_visible(False)\n",
        "ax.spines['top'].set_visible(False)\n",
        "plt.yticks(np.arange(0,8000000,1000000),['{} thousand'.format(i) for i in np.arange(0,8,1)]);"
      ],
      "execution_count": null,
      "outputs": [
        {
          "output_type": "display_data",
          "data": {
            "image/png": "[encoded data removed]",
            "text/plain": [
              "<Figure size 432x288 with 1 Axes>"
            ]
          },
          "metadata": {
            "tags": [],
            "needs_background": "light"
          }
        }
      ]
    },
    {
      "cell_type": "code",
      "metadata": {
        "id": "bG7Df2w9evI_",
        "colab_type": "code",
        "colab": {
          "base_uri": "https://localhost:8080/",
          "height": 195
        },
        "outputId": "f33a02b5-7a0b-477e-d178-3dcb617ae9fb"
      },
      "source": [
        "#china compared to the rest of the wprld\n",
        "china_cases = df_agg[df_agg['Country']=='China']\n",
        "china_cases.head()"
      ],
      "execution_count": null,
      "outputs": [
        {
          "output_type": "execute_result",
          "data": {
            "text/html": [
              "<div>\n",
              "<style scoped>\n",
              "    .dataframe tbody tr th:only-of-type {\n",
              "        vertical-align: middle;\n",
              "    }\n",
              "\n",
              "    .dataframe tbody tr th {\n",
              "        vertical-align: top;\n",
              "    }\n",
              "\n",
              "    .dataframe thead th {\n",
              "        text-align: right;\n",
              "    }\n",
              "</style>\n",
              "<table border=\"1\" class=\"dataframe\">\n",
              "  <thead>\n",
              "    <tr style=\"text-align: right;\">\n",
              "      <th></th>\n",
              "      <th>Date</th>\n",
              "      <th>Country</th>\n",
              "      <th>Confirmed</th>\n",
              "      <th>Recovered</th>\n",
              "      <th>Deaths</th>\n",
              "      <th>Active</th>\n",
              "    </tr>\n",
              "  </thead>\n",
              "  <tbody>\n",
              "    <tr>\n",
              "      <th>36</th>\n",
              "      <td>2020-01-22</td>\n",
              "      <td>China</td>\n",
              "      <td>548</td>\n",
              "      <td>28</td>\n",
              "      <td>17</td>\n",
              "      <td>503</td>\n",
              "    </tr>\n",
              "    <tr>\n",
              "      <th>224</th>\n",
              "      <td>2020-01-23</td>\n",
              "      <td>China</td>\n",
              "      <td>643</td>\n",
              "      <td>30</td>\n",
              "      <td>18</td>\n",
              "      <td>595</td>\n",
              "    </tr>\n",
              "    <tr>\n",
              "      <th>412</th>\n",
              "      <td>2020-01-24</td>\n",
              "      <td>China</td>\n",
              "      <td>920</td>\n",
              "      <td>36</td>\n",
              "      <td>26</td>\n",
              "      <td>858</td>\n",
              "    </tr>\n",
              "    <tr>\n",
              "      <th>600</th>\n",
              "      <td>2020-01-25</td>\n",
              "      <td>China</td>\n",
              "      <td>1406</td>\n",
              "      <td>39</td>\n",
              "      <td>42</td>\n",
              "      <td>1325</td>\n",
              "    </tr>\n",
              "    <tr>\n",
              "      <th>788</th>\n",
              "      <td>2020-01-26</td>\n",
              "      <td>China</td>\n",
              "      <td>2075</td>\n",
              "      <td>49</td>\n",
              "      <td>56</td>\n",
              "      <td>1970</td>\n",
              "    </tr>\n",
              "  </tbody>\n",
              "</table>\n",
              "</div>"
            ],
            "text/plain": [
              "          Date Country  Confirmed  Recovered  Deaths  Active\n",
              "36  2020-01-22   China        548         28      17     503\n",
              "224 2020-01-23   China        643         30      18     595\n",
              "412 2020-01-24   China        920         36      26     858\n",
              "600 2020-01-25   China       1406         39      42    1325\n",
              "788 2020-01-26   China       2075         49      56    1970"
            ]
          },
          "metadata": {
            "tags": []
          },
          "execution_count": 209
        }
      ]
    },
    {
      "cell_type": "code",
      "metadata": {
        "id": "mJBuz-Xaf7Ub",
        "colab_type": "code",
        "colab": {
          "base_uri": "https://localhost:8080/",
          "height": 312
        },
        "outputId": "11c0d910-af93-4f4c-fa51-e73a125a2ea5"
      },
      "source": [
        "plt.figure(figsize=(20,2));\n",
        "china_cases.plot.line(x='Date' , y='Confirmed');\n",
        "plt.ylabel(\"Cumulative confirmed cases\");\n",
        "ax.spines['right'].set_visible(False)\n",
        "ax.spines['top'].set_visible(False)\n",
        "plt.yticks(np.arange(0,100000,10000),['{} thousand'.format(i) for i in np.arange(0,10,1)]);"
      ],
      "execution_count": null,
      "outputs": [
        {
          "output_type": "display_data",
          "data": {
            "text/plain": [
              "<Figure size 1440x144 with 0 Axes>"
            ]
          },
          "metadata": {
            "tags": []
          }
        },
        {
          "output_type": "display_data",
          "data": {
            "image/png": "[encoded data removed]",
            "text/plain": [
              "<Figure size 432x288 with 1 Axes>"
            ]
          },
          "metadata": {
            "tags": [],
            "needs_background": "light"
          }
        }
      ]
    },
    {
      "cell_type": "code",
      "metadata": {
        "id": "u7n4hAOckV2A",
        "colab_type": "code",
        "colab": {
          "base_uri": "https://localhost:8080/",
          "height": 312
        },
        "outputId": "870338f3-6677-4e1d-99a5-d727dac321a0"
      },
      "source": [
        "plt.figure(figsize=(20,2));\n",
        "df_agg[df_agg['Country']== 'US'].plot.line(x='Date' , y='Confirmed');\n",
        "plt.ylabel(\"Cumulative confirmed cases\");\n",
        "ax.spines['right'].set_visible(False)\n",
        "ax.spines['top'].set_visible(False)\n",
        "plt.yticks(np.arange(0,7000000,1000000),['{} million'.format(i) for i in np.arange(0,7,1)]);"
      ],
      "execution_count": null,
      "outputs": [
        {
          "output_type": "display_data",
          "data": {
            "text/plain": [
              "<Figure size 1440x144 with 0 Axes>"
            ]
          },
          "metadata": {
            "tags": []
          }
        },
        {
          "output_type": "display_data",
          "data": {
            "image/png": "[encoded data removed]",
            "text/plain": [
              "<Figure size 432x288 with 1 Axes>"
            ]
          },
          "metadata": {
            "tags": [],
            "needs_background": "light"
          }
        }
      ]
    },
    {
      "cell_type": "markdown",
      "metadata": {
        "id": "5MufQ7ranqOf",
        "colab_type": "text"
      },
      "source": [
        "**We extract 8 countries from the main dataframe to work on them.**\n",
        "\n",
        "Countries:\n",
        "{Germany, USA, Italy, India, China, S. Korea, UK, Iran}\n"
      ]
    },
    {
      "cell_type": "code",
      "metadata": {
        "id": "IUqKvTozn9J0",
        "colab_type": "code",
        "colab": {
          "base_uri": "https://localhost:8080/",
          "height": 195
        },
        "outputId": "42460797-c5a2-41d0-a3b9-310e0747e5a7"
      },
      "source": [
        "select_countries = ['Germany', 'US', 'Italy', 'India','China','Korea, South','United Kingdom','Iran']\n",
        "df_countries_date = df_agg[df_agg[\"Country\"].isin(select_countries)]\n",
        "df_countries_date.sample(5)"
      ],
      "execution_count": null,
      "outputs": [
        {
          "output_type": "execute_result",
          "data": {
            "text/html": [
              "<div>\n",
              "<style scoped>\n",
              "    .dataframe tbody tr th:only-of-type {\n",
              "        vertical-align: middle;\n",
              "    }\n",
              "\n",
              "    .dataframe tbody tr th {\n",
              "        vertical-align: top;\n",
              "    }\n",
              "\n",
              "    .dataframe thead th {\n",
              "        text-align: right;\n",
              "    }\n",
              "</style>\n",
              "<table border=\"1\" class=\"dataframe\">\n",
              "  <thead>\n",
              "    <tr style=\"text-align: right;\">\n",
              "      <th></th>\n",
              "      <th>Date</th>\n",
              "      <th>Country</th>\n",
              "      <th>Confirmed</th>\n",
              "      <th>Recovered</th>\n",
              "      <th>Deaths</th>\n",
              "      <th>Active</th>\n",
              "    </tr>\n",
              "  </thead>\n",
              "  <tbody>\n",
              "    <tr>\n",
              "      <th>4029</th>\n",
              "      <td>2020-02-12</td>\n",
              "      <td>Iran</td>\n",
              "      <td>0</td>\n",
              "      <td>0</td>\n",
              "      <td>0</td>\n",
              "      <td>0</td>\n",
              "    </tr>\n",
              "    <tr>\n",
              "      <th>3653</th>\n",
              "      <td>2020-02-10</td>\n",
              "      <td>Iran</td>\n",
              "      <td>0</td>\n",
              "      <td>0</td>\n",
              "      <td>0</td>\n",
              "      <td>0</td>\n",
              "    </tr>\n",
              "    <tr>\n",
              "      <th>13760</th>\n",
              "      <td>2020-04-04</td>\n",
              "      <td>China</td>\n",
              "      <td>82543</td>\n",
              "      <td>76946</td>\n",
              "      <td>3330</td>\n",
              "      <td>2267</td>\n",
              "    </tr>\n",
              "    <tr>\n",
              "      <th>6082</th>\n",
              "      <td>2020-02-23</td>\n",
              "      <td>Germany</td>\n",
              "      <td>16</td>\n",
              "      <td>14</td>\n",
              "      <td>0</td>\n",
              "      <td>2</td>\n",
              "    </tr>\n",
              "    <tr>\n",
              "      <th>21889</th>\n",
              "      <td>2020-05-17</td>\n",
              "      <td>Iran</td>\n",
              "      <td>120198</td>\n",
              "      <td>94464</td>\n",
              "      <td>6988</td>\n",
              "      <td>18746</td>\n",
              "    </tr>\n",
              "  </tbody>\n",
              "</table>\n",
              "</div>"
            ],
            "text/plain": [
              "            Date  Country  Confirmed  Recovered  Deaths  Active\n",
              "4029  2020-02-12     Iran          0          0       0       0\n",
              "3653  2020-02-10     Iran          0          0       0       0\n",
              "13760 2020-04-04    China      82543      76946    3330    2267\n",
              "6082  2020-02-23  Germany         16         14       0       2\n",
              "21889 2020-05-17     Iran     120198      94464    6988   18746"
            ]
          },
          "metadata": {
            "tags": []
          },
          "execution_count": 212
        }
      ]
    },
    {
      "cell_type": "code",
      "metadata": {
        "id": "FqxjFZoPJ31T",
        "colab_type": "code",
        "colab": {
          "base_uri": "https://localhost:8080/",
          "height": 134
        },
        "outputId": "f4043ae8-7071-4916-9a3d-15c40a68e5e7"
      },
      "source": [
        "#WE need to know the numbers of null and unknown values \n",
        "df_countries_date.isna().sum()"
      ],
      "execution_count": null,
      "outputs": [
        {
          "output_type": "execute_result",
          "data": {
            "text/plain": [
              "Date         0\n",
              "Country      0\n",
              "Confirmed    0\n",
              "Recovered    0\n",
              "Deaths       0\n",
              "Active       0\n",
              "dtype: int64"
            ]
          },
          "metadata": {
            "tags": []
          },
          "execution_count": 213
        }
      ]
    },
    {
      "cell_type": "code",
      "metadata": {
        "id": "vYJf8lcywWA7",
        "colab_type": "code",
        "colab": {
          "base_uri": "https://localhost:8080/",
          "height": 218
        },
        "outputId": "a0e42d29-8b8f-4670-b6cf-07235774d702"
      },
      "source": [
        "df_countries_date['Confirmed']"
      ],
      "execution_count": null,
      "outputs": [
        {
          "output_type": "execute_result",
          "data": {
            "text/plain": [
              "36           548\n",
              "66             0\n",
              "79             0\n",
              "81             0\n",
              "85             0\n",
              "          ...   \n",
              "26025     173832\n",
              "26029     235278\n",
              "26035      11852\n",
              "26118    1960897\n",
              "26122     288834\n",
              "Name: Confirmed, Length: 1112, dtype: int64"
            ]
          },
          "metadata": {
            "tags": []
          },
          "execution_count": 214
        }
      ]
    },
    {
      "cell_type": "code",
      "metadata": {
        "id": "Um2gGjqRwLs-",
        "colab_type": "code",
        "colab": {
          "base_uri": "https://localhost:8080/",
          "height": 367
        },
        "outputId": "6bfdd563-66ab-465d-b824-1676b88a465a"
      },
      "source": [
        "df_countries_date.groupby('Country')['Confirmed','Deaths','Recovered','Active'].sum()"
      ],
      "execution_count": null,
      "outputs": [
        {
          "output_type": "stream",
          "text": [
            "/usr/local/lib/python3.6/dist-packages/ipykernel_launcher.py:1: FutureWarning: Indexing with multiple keys (implicitly converted to a tuple of keys) will be deprecated, use a list instead.\n",
            "  \"\"\"Entry point for launching an IPython kernel.\n"
          ],
          "name": "stderr"
        },
        {
          "output_type": "execute_result",
          "data": {
            "text/html": [
              "<div>\n",
              "<style scoped>\n",
              "    .dataframe tbody tr th:only-of-type {\n",
              "        vertical-align: middle;\n",
              "    }\n",
              "\n",
              "    .dataframe tbody tr th {\n",
              "        vertical-align: top;\n",
              "    }\n",
              "\n",
              "    .dataframe thead th {\n",
              "        text-align: right;\n",
              "    }\n",
              "</style>\n",
              "<table border=\"1\" class=\"dataframe\">\n",
              "  <thead>\n",
              "    <tr style=\"text-align: right;\">\n",
              "      <th></th>\n",
              "      <th>Confirmed</th>\n",
              "      <th>Deaths</th>\n",
              "      <th>Recovered</th>\n",
              "      <th>Active</th>\n",
              "    </tr>\n",
              "    <tr>\n",
              "      <th>Country</th>\n",
              "      <th></th>\n",
              "      <th></th>\n",
              "      <th></th>\n",
              "      <th></th>\n",
              "    </tr>\n",
              "  </thead>\n",
              "  <tbody>\n",
              "    <tr>\n",
              "      <th>China</th>\n",
              "      <td>9965614</td>\n",
              "      <td>444951</td>\n",
              "      <td>7808698</td>\n",
              "      <td>1711965</td>\n",
              "    </tr>\n",
              "    <tr>\n",
              "      <th>Germany</th>\n",
              "      <td>11437797</td>\n",
              "      <td>431204</td>\n",
              "      <td>8267404</td>\n",
              "      <td>2739189</td>\n",
              "    </tr>\n",
              "    <tr>\n",
              "      <th>India</th>\n",
              "      <td>5401757</td>\n",
              "      <td>160960</td>\n",
              "      <td>2197056</td>\n",
              "      <td>3043741</td>\n",
              "    </tr>\n",
              "    <tr>\n",
              "      <th>Iran</th>\n",
              "      <td>7830564</td>\n",
              "      <td>456237</td>\n",
              "      <td>5577291</td>\n",
              "      <td>1797036</td>\n",
              "    </tr>\n",
              "    <tr>\n",
              "      <th>Italy</th>\n",
              "      <td>14931296</td>\n",
              "      <td>2004252</td>\n",
              "      <td>6421064</td>\n",
              "      <td>6505980</td>\n",
              "    </tr>\n",
              "    <tr>\n",
              "      <th>Korea, South</th>\n",
              "      <td>1009061</td>\n",
              "      <td>19510</td>\n",
              "      <td>672561</td>\n",
              "      <td>316990</td>\n",
              "    </tr>\n",
              "    <tr>\n",
              "      <th>US</th>\n",
              "      <td>80915058</td>\n",
              "      <td>4602053</td>\n",
              "      <td>14391645</td>\n",
              "      <td>61921360</td>\n",
              "    </tr>\n",
              "    <tr>\n",
              "      <th>United Kingdom</th>\n",
              "      <td>12781606</td>\n",
              "      <td>1840313</td>\n",
              "      <td>59539</td>\n",
              "      <td>10881754</td>\n",
              "    </tr>\n",
              "  </tbody>\n",
              "</table>\n",
              "</div>"
            ],
            "text/plain": [
              "                Confirmed   Deaths  Recovered    Active\n",
              "Country                                                \n",
              "China             9965614   444951    7808698   1711965\n",
              "Germany          11437797   431204    8267404   2739189\n",
              "India             5401757   160960    2197056   3043741\n",
              "Iran              7830564   456237    5577291   1797036\n",
              "Italy            14931296  2004252    6421064   6505980\n",
              "Korea, South      1009061    19510     672561    316990\n",
              "US               80915058  4602053   14391645  61921360\n",
              "United Kingdom   12781606  1840313      59539  10881754"
            ]
          },
          "metadata": {
            "tags": []
          },
          "execution_count": 215
        }
      ]
    },
    {
      "cell_type": "code",
      "metadata": {
        "id": "DQas6sGYv7eV",
        "colab_type": "code",
        "colab": {
          "base_uri": "https://localhost:8080/",
          "height": 770
        },
        "outputId": "fafdf058-59ba-44fd-b67d-ffaedd12a83f"
      },
      "source": [
        "df_countries_date.groupby('Country')['Confirmed','Deaths','Recovered','Active'].max().plot.bar(grid=True , figsize=(15,10));\n",
        "plt.xlabel('countries' , size = 18)\n",
        "plt.ylabel('count' , size = 18)\n",
        "plt.title('Total numbers of infected people divided in 4 categories')\n",
        "#plt.yticks(np.arange(0,95000000,5000000),['{} Thousand'.format(i) for i in np.arange(0,95,5)]);"
      ],
      "execution_count": null,
      "outputs": [
        {
          "output_type": "stream",
          "text": [
            "/usr/local/lib/python3.6/dist-packages/ipykernel_launcher.py:1: FutureWarning: Indexing with multiple keys (implicitly converted to a tuple of keys) will be deprecated, use a list instead.\n",
            "  \"\"\"Entry point for launching an IPython kernel.\n"
          ],
          "name": "stderr"
        },
        {
          "output_type": "execute_result",
          "data": {
            "text/plain": [
              "Text(0.5, 1.0, 'Total numbers of infected people divided in 4 categories')"
            ]
          },
          "metadata": {
            "tags": []
          },
          "execution_count": 216
        },
        {
          "output_type": "display_data",
          "data": {
            "image/png": "[encoded data removed]",
            "text/plain": [
              "<Figure size 1080x720 with 1 Axes>"
            ]
          },
          "metadata": {
            "tags": [],
            "needs_background": "light"
          }
        }
      ]
    },
    {
      "cell_type": "code",
      "metadata": {
        "id": "AySLLm9NLTUR",
        "colab_type": "code",
        "colab": {}
      },
      "source": [
        "first_date_filter = df_countries_date[(df_countries_date['Confirmed'] > 0 ) | (df_countries_date['Deaths'] > 0 ) ]"
      ],
      "execution_count": null,
      "outputs": []
    },
    {
      "cell_type": "code",
      "metadata": {
        "id": "wWm2ZATzLh6h",
        "colab_type": "code",
        "colab": {
          "base_uri": "https://localhost:8080/",
          "height": 402
        },
        "outputId": "8dfdd2e0-0f03-4986-df79-1ec7226bc894"
      },
      "source": [
        "first_date_filter"
      ],
      "execution_count": null,
      "outputs": [
        {
          "output_type": "execute_result",
          "data": {
            "text/html": [
              "<div>\n",
              "<style scoped>\n",
              "    .dataframe tbody tr th:only-of-type {\n",
              "        vertical-align: middle;\n",
              "    }\n",
              "\n",
              "    .dataframe tbody tr th {\n",
              "        vertical-align: top;\n",
              "    }\n",
              "\n",
              "    .dataframe thead th {\n",
              "        text-align: right;\n",
              "    }\n",
              "</style>\n",
              "<table border=\"1\" class=\"dataframe\">\n",
              "  <thead>\n",
              "    <tr style=\"text-align: right;\">\n",
              "      <th></th>\n",
              "      <th>Date</th>\n",
              "      <th>Country</th>\n",
              "      <th>Confirmed</th>\n",
              "      <th>Recovered</th>\n",
              "      <th>Deaths</th>\n",
              "      <th>Active</th>\n",
              "    </tr>\n",
              "  </thead>\n",
              "  <tbody>\n",
              "    <tr>\n",
              "      <th>36</th>\n",
              "      <td>2020-01-22</td>\n",
              "      <td>China</td>\n",
              "      <td>548</td>\n",
              "      <td>28</td>\n",
              "      <td>17</td>\n",
              "      <td>503</td>\n",
              "    </tr>\n",
              "    <tr>\n",
              "      <th>91</th>\n",
              "      <td>2020-01-22</td>\n",
              "      <td>Korea, South</td>\n",
              "      <td>1</td>\n",
              "      <td>0</td>\n",
              "      <td>0</td>\n",
              "      <td>1</td>\n",
              "    </tr>\n",
              "    <tr>\n",
              "      <th>174</th>\n",
              "      <td>2020-01-22</td>\n",
              "      <td>US</td>\n",
              "      <td>1</td>\n",
              "      <td>0</td>\n",
              "      <td>0</td>\n",
              "      <td>1</td>\n",
              "    </tr>\n",
              "    <tr>\n",
              "      <th>224</th>\n",
              "      <td>2020-01-23</td>\n",
              "      <td>China</td>\n",
              "      <td>643</td>\n",
              "      <td>30</td>\n",
              "      <td>18</td>\n",
              "      <td>595</td>\n",
              "    </tr>\n",
              "    <tr>\n",
              "      <th>279</th>\n",
              "      <td>2020-01-23</td>\n",
              "      <td>Korea, South</td>\n",
              "      <td>1</td>\n",
              "      <td>0</td>\n",
              "      <td>0</td>\n",
              "      <td>1</td>\n",
              "    </tr>\n",
              "    <tr>\n",
              "      <th>...</th>\n",
              "      <td>...</td>\n",
              "      <td>...</td>\n",
              "      <td>...</td>\n",
              "      <td>...</td>\n",
              "      <td>...</td>\n",
              "      <td>...</td>\n",
              "    </tr>\n",
              "    <tr>\n",
              "      <th>26025</th>\n",
              "      <td>2020-06-08</td>\n",
              "      <td>Iran</td>\n",
              "      <td>173832</td>\n",
              "      <td>136360</td>\n",
              "      <td>8351</td>\n",
              "      <td>29121</td>\n",
              "    </tr>\n",
              "    <tr>\n",
              "      <th>26029</th>\n",
              "      <td>2020-06-08</td>\n",
              "      <td>Italy</td>\n",
              "      <td>235278</td>\n",
              "      <td>166584</td>\n",
              "      <td>33964</td>\n",
              "      <td>34730</td>\n",
              "    </tr>\n",
              "    <tr>\n",
              "      <th>26035</th>\n",
              "      <td>2020-06-08</td>\n",
              "      <td>Korea, South</td>\n",
              "      <td>11852</td>\n",
              "      <td>10589</td>\n",
              "      <td>274</td>\n",
              "      <td>989</td>\n",
              "    </tr>\n",
              "    <tr>\n",
              "      <th>26118</th>\n",
              "      <td>2020-06-08</td>\n",
              "      <td>US</td>\n",
              "      <td>1960897</td>\n",
              "      <td>518522</td>\n",
              "      <td>110990</td>\n",
              "      <td>1331385</td>\n",
              "    </tr>\n",
              "    <tr>\n",
              "      <th>26122</th>\n",
              "      <td>2020-06-08</td>\n",
              "      <td>United Kingdom</td>\n",
              "      <td>288834</td>\n",
              "      <td>1255</td>\n",
              "      <td>40680</td>\n",
              "      <td>246899</td>\n",
              "    </tr>\n",
              "  </tbody>\n",
              "</table>\n",
              "<p>1053 rows × 6 columns</p>\n",
              "</div>"
            ],
            "text/plain": [
              "            Date         Country  Confirmed  Recovered  Deaths   Active\n",
              "36    2020-01-22           China        548         28      17      503\n",
              "91    2020-01-22    Korea, South          1          0       0        1\n",
              "174   2020-01-22              US          1          0       0        1\n",
              "224   2020-01-23           China        643         30      18      595\n",
              "279   2020-01-23    Korea, South          1          0       0        1\n",
              "...          ...             ...        ...        ...     ...      ...\n",
              "26025 2020-06-08            Iran     173832     136360    8351    29121\n",
              "26029 2020-06-08           Italy     235278     166584   33964    34730\n",
              "26035 2020-06-08    Korea, South      11852      10589     274      989\n",
              "26118 2020-06-08              US    1960897     518522  110990  1331385\n",
              "26122 2020-06-08  United Kingdom     288834       1255   40680   246899\n",
              "\n",
              "[1053 rows x 6 columns]"
            ]
          },
          "metadata": {
            "tags": []
          },
          "execution_count": 218
        }
      ]
    },
    {
      "cell_type": "code",
      "metadata": {
        "id": "tA_FQ1q9L0t2",
        "colab_type": "code",
        "colab": {
          "base_uri": "https://localhost:8080/",
          "height": 284
        },
        "outputId": "7caf8a0e-63aa-4273-fae9-ea4596365e17"
      },
      "source": [
        "#find the first date of infection in each country\n",
        "df_first_date = first_date_filter.groupby('Country').min()['Date'].reset_index()\n",
        "df_first_date.sort_values(by = 'Date' , ascending=True )"
      ],
      "execution_count": null,
      "outputs": [
        {
          "output_type": "execute_result",
          "data": {
            "text/html": [
              "<div>\n",
              "<style scoped>\n",
              "    .dataframe tbody tr th:only-of-type {\n",
              "        vertical-align: middle;\n",
              "    }\n",
              "\n",
              "    .dataframe tbody tr th {\n",
              "        vertical-align: top;\n",
              "    }\n",
              "\n",
              "    .dataframe thead th {\n",
              "        text-align: right;\n",
              "    }\n",
              "</style>\n",
              "<table border=\"1\" class=\"dataframe\">\n",
              "  <thead>\n",
              "    <tr style=\"text-align: right;\">\n",
              "      <th></th>\n",
              "      <th>Country</th>\n",
              "      <th>Date</th>\n",
              "    </tr>\n",
              "  </thead>\n",
              "  <tbody>\n",
              "    <tr>\n",
              "      <th>0</th>\n",
              "      <td>China</td>\n",
              "      <td>2020-01-22</td>\n",
              "    </tr>\n",
              "    <tr>\n",
              "      <th>5</th>\n",
              "      <td>Korea, South</td>\n",
              "      <td>2020-01-22</td>\n",
              "    </tr>\n",
              "    <tr>\n",
              "      <th>6</th>\n",
              "      <td>US</td>\n",
              "      <td>2020-01-22</td>\n",
              "    </tr>\n",
              "    <tr>\n",
              "      <th>1</th>\n",
              "      <td>Germany</td>\n",
              "      <td>2020-01-27</td>\n",
              "    </tr>\n",
              "    <tr>\n",
              "      <th>2</th>\n",
              "      <td>India</td>\n",
              "      <td>2020-01-30</td>\n",
              "    </tr>\n",
              "    <tr>\n",
              "      <th>4</th>\n",
              "      <td>Italy</td>\n",
              "      <td>2020-01-31</td>\n",
              "    </tr>\n",
              "    <tr>\n",
              "      <th>7</th>\n",
              "      <td>United Kingdom</td>\n",
              "      <td>2020-01-31</td>\n",
              "    </tr>\n",
              "    <tr>\n",
              "      <th>3</th>\n",
              "      <td>Iran</td>\n",
              "      <td>2020-02-19</td>\n",
              "    </tr>\n",
              "  </tbody>\n",
              "</table>\n",
              "</div>"
            ],
            "text/plain": [
              "          Country       Date\n",
              "0           China 2020-01-22\n",
              "5    Korea, South 2020-01-22\n",
              "6              US 2020-01-22\n",
              "1         Germany 2020-01-27\n",
              "2           India 2020-01-30\n",
              "4           Italy 2020-01-31\n",
              "7  United Kingdom 2020-01-31\n",
              "3            Iran 2020-02-19"
            ]
          },
          "metadata": {
            "tags": []
          },
          "execution_count": 219
        }
      ]
    },
    {
      "cell_type": "code",
      "metadata": {
        "id": "S1G2GOCLMRVD",
        "colab_type": "code",
        "colab": {
          "base_uri": "https://localhost:8080/",
          "height": 284
        },
        "outputId": "6d006f25-5818-453c-c0bf-448f0d3febe6"
      },
      "source": [
        "#create a new Dataframe in order to have numbers of confirmed people for each country at their first date\n",
        "df_first_date.merge(df_countries_date , on=['Date' , 'Country'] , how='left' )"
      ],
      "execution_count": null,
      "outputs": [
        {
          "output_type": "execute_result",
          "data": {
            "text/html": [
              "<div>\n",
              "<style scoped>\n",
              "    .dataframe tbody tr th:only-of-type {\n",
              "        vertical-align: middle;\n",
              "    }\n",
              "\n",
              "    .dataframe tbody tr th {\n",
              "        vertical-align: top;\n",
              "    }\n",
              "\n",
              "    .dataframe thead th {\n",
              "        text-align: right;\n",
              "    }\n",
              "</style>\n",
              "<table border=\"1\" class=\"dataframe\">\n",
              "  <thead>\n",
              "    <tr style=\"text-align: right;\">\n",
              "      <th></th>\n",
              "      <th>Country</th>\n",
              "      <th>Date</th>\n",
              "      <th>Confirmed</th>\n",
              "      <th>Recovered</th>\n",
              "      <th>Deaths</th>\n",
              "      <th>Active</th>\n",
              "    </tr>\n",
              "  </thead>\n",
              "  <tbody>\n",
              "    <tr>\n",
              "      <th>0</th>\n",
              "      <td>China</td>\n",
              "      <td>2020-01-22</td>\n",
              "      <td>548</td>\n",
              "      <td>28</td>\n",
              "      <td>17</td>\n",
              "      <td>503</td>\n",
              "    </tr>\n",
              "    <tr>\n",
              "      <th>1</th>\n",
              "      <td>Germany</td>\n",
              "      <td>2020-01-27</td>\n",
              "      <td>1</td>\n",
              "      <td>0</td>\n",
              "      <td>0</td>\n",
              "      <td>1</td>\n",
              "    </tr>\n",
              "    <tr>\n",
              "      <th>2</th>\n",
              "      <td>India</td>\n",
              "      <td>2020-01-30</td>\n",
              "      <td>1</td>\n",
              "      <td>0</td>\n",
              "      <td>0</td>\n",
              "      <td>1</td>\n",
              "    </tr>\n",
              "    <tr>\n",
              "      <th>3</th>\n",
              "      <td>Iran</td>\n",
              "      <td>2020-02-19</td>\n",
              "      <td>2</td>\n",
              "      <td>0</td>\n",
              "      <td>2</td>\n",
              "      <td>0</td>\n",
              "    </tr>\n",
              "    <tr>\n",
              "      <th>4</th>\n",
              "      <td>Italy</td>\n",
              "      <td>2020-01-31</td>\n",
              "      <td>2</td>\n",
              "      <td>0</td>\n",
              "      <td>0</td>\n",
              "      <td>2</td>\n",
              "    </tr>\n",
              "    <tr>\n",
              "      <th>5</th>\n",
              "      <td>Korea, South</td>\n",
              "      <td>2020-01-22</td>\n",
              "      <td>1</td>\n",
              "      <td>0</td>\n",
              "      <td>0</td>\n",
              "      <td>1</td>\n",
              "    </tr>\n",
              "    <tr>\n",
              "      <th>6</th>\n",
              "      <td>US</td>\n",
              "      <td>2020-01-22</td>\n",
              "      <td>1</td>\n",
              "      <td>0</td>\n",
              "      <td>0</td>\n",
              "      <td>1</td>\n",
              "    </tr>\n",
              "    <tr>\n",
              "      <th>7</th>\n",
              "      <td>United Kingdom</td>\n",
              "      <td>2020-01-31</td>\n",
              "      <td>2</td>\n",
              "      <td>0</td>\n",
              "      <td>0</td>\n",
              "      <td>2</td>\n",
              "    </tr>\n",
              "  </tbody>\n",
              "</table>\n",
              "</div>"
            ],
            "text/plain": [
              "          Country       Date  Confirmed  Recovered  Deaths  Active\n",
              "0           China 2020-01-22        548         28      17     503\n",
              "1         Germany 2020-01-27          1          0       0       1\n",
              "2           India 2020-01-30          1          0       0       1\n",
              "3            Iran 2020-02-19          2          0       2       0\n",
              "4           Italy 2020-01-31          2          0       0       2\n",
              "5    Korea, South 2020-01-22          1          0       0       1\n",
              "6              US 2020-01-22          1          0       0       1\n",
              "7  United Kingdom 2020-01-31          2          0       0       2"
            ]
          },
          "metadata": {
            "tags": []
          },
          "execution_count": 220
        }
      ]
    },
    {
      "cell_type": "code",
      "metadata": {
        "id": "Mb4zTzBJZCP2",
        "colab_type": "code",
        "colab": {}
      },
      "source": [
        ""
      ],
      "execution_count": null,
      "outputs": []
    },
    {
      "cell_type": "code",
      "metadata": {
        "id": "yHiMMs5zNLIY",
        "colab_type": "code",
        "colab": {
          "base_uri": "https://localhost:8080/",
          "height": 669
        },
        "outputId": "f85ba014-9c03-4c93-cb6a-d035e43a024c"
      },
      "source": [
        "plt.figure(figsize=(15,10))\n",
        "#date = df_countries_date['Date']\n",
        "sns.lineplot( x='Date' , y= 'Confirmed' ,hue= 'Country' , data=df_countries_date);\n",
        "plt.xlabel('Date')\n",
        "plt.ylabel('numbers of confirmed patients')\n",
        "plt.title('The process of infection')\n",
        "#plt.ystick\n",
        "#plt.xticks(['2020-01-01' , '2020-04-01'])\n",
        "plt.xticks(rotation=90);"
      ],
      "execution_count": null,
      "outputs": [
        {
          "output_type": "display_data",
          "data": {
            "image/png": "[encoded data removed]",
            "text/plain": [
              "<Figure size 1080x720 with 1 Axes>"
            ]
          },
          "metadata": {
            "tags": [],
            "needs_background": "light"
          }
        }
      ]
    },
    {
      "cell_type": "code",
      "metadata": {
        "id": "e-UooTi_iGnl",
        "colab_type": "code",
        "colab": {}
      },
      "source": [
        "#To convert Date values from string to datetime >>> DataFrame.to_datetime()\n",
        "#countries_date['date'] = pd.to_datetime(countries_date['date'])\n",
        "#countries_date\n"
      ],
      "execution_count": null,
      "outputs": []
    },
    {
      "cell_type": "code",
      "metadata": {
        "id": "241j_dJUOJsj",
        "colab_type": "code",
        "colab": {
          "base_uri": "https://localhost:8080/",
          "height": 195
        },
        "outputId": "28075e0e-fd9d-4a8b-fee9-39123e4c4b83"
      },
      "source": [
        "df_ref = pd.read_csv('https://raw.githubusercontent.com/datasets/covid-19/master/data//reference.csv')\n",
        "df_ref.head()"
      ],
      "execution_count": null,
      "outputs": [
        {
          "output_type": "execute_result",
          "data": {
            "text/html": [
              "<div>\n",
              "<style scoped>\n",
              "    .dataframe tbody tr th:only-of-type {\n",
              "        vertical-align: middle;\n",
              "    }\n",
              "\n",
              "    .dataframe tbody tr th {\n",
              "        vertical-align: top;\n",
              "    }\n",
              "\n",
              "    .dataframe thead th {\n",
              "        text-align: right;\n",
              "    }\n",
              "</style>\n",
              "<table border=\"1\" class=\"dataframe\">\n",
              "  <thead>\n",
              "    <tr style=\"text-align: right;\">\n",
              "      <th></th>\n",
              "      <th>UID</th>\n",
              "      <th>iso2</th>\n",
              "      <th>iso3</th>\n",
              "      <th>code3</th>\n",
              "      <th>FIPS</th>\n",
              "      <th>Admin2</th>\n",
              "      <th>Province_State</th>\n",
              "      <th>Country_Region</th>\n",
              "      <th>Lat</th>\n",
              "      <th>Long_</th>\n",
              "      <th>Combined_Key</th>\n",
              "      <th>Population</th>\n",
              "    </tr>\n",
              "  </thead>\n",
              "  <tbody>\n",
              "    <tr>\n",
              "      <th>0</th>\n",
              "      <td>4</td>\n",
              "      <td>AF</td>\n",
              "      <td>AFG</td>\n",
              "      <td>4.0</td>\n",
              "      <td>NaN</td>\n",
              "      <td>NaN</td>\n",
              "      <td>NaN</td>\n",
              "      <td>Afghanistan</td>\n",
              "      <td>33.93911</td>\n",
              "      <td>67.709953</td>\n",
              "      <td>Afghanistan</td>\n",
              "      <td>38928341.0</td>\n",
              "    </tr>\n",
              "    <tr>\n",
              "      <th>1</th>\n",
              "      <td>8</td>\n",
              "      <td>AL</td>\n",
              "      <td>ALB</td>\n",
              "      <td>8.0</td>\n",
              "      <td>NaN</td>\n",
              "      <td>NaN</td>\n",
              "      <td>NaN</td>\n",
              "      <td>Albania</td>\n",
              "      <td>41.15330</td>\n",
              "      <td>20.168300</td>\n",
              "      <td>Albania</td>\n",
              "      <td>2877800.0</td>\n",
              "    </tr>\n",
              "    <tr>\n",
              "      <th>2</th>\n",
              "      <td>12</td>\n",
              "      <td>DZ</td>\n",
              "      <td>DZA</td>\n",
              "      <td>12.0</td>\n",
              "      <td>NaN</td>\n",
              "      <td>NaN</td>\n",
              "      <td>NaN</td>\n",
              "      <td>Algeria</td>\n",
              "      <td>28.03390</td>\n",
              "      <td>1.659600</td>\n",
              "      <td>Algeria</td>\n",
              "      <td>43851043.0</td>\n",
              "    </tr>\n",
              "    <tr>\n",
              "      <th>3</th>\n",
              "      <td>20</td>\n",
              "      <td>AD</td>\n",
              "      <td>AND</td>\n",
              "      <td>20.0</td>\n",
              "      <td>NaN</td>\n",
              "      <td>NaN</td>\n",
              "      <td>NaN</td>\n",
              "      <td>Andorra</td>\n",
              "      <td>42.50630</td>\n",
              "      <td>1.521800</td>\n",
              "      <td>Andorra</td>\n",
              "      <td>77265.0</td>\n",
              "    </tr>\n",
              "    <tr>\n",
              "      <th>4</th>\n",
              "      <td>24</td>\n",
              "      <td>AO</td>\n",
              "      <td>AGO</td>\n",
              "      <td>24.0</td>\n",
              "      <td>NaN</td>\n",
              "      <td>NaN</td>\n",
              "      <td>NaN</td>\n",
              "      <td>Angola</td>\n",
              "      <td>-11.20270</td>\n",
              "      <td>17.873900</td>\n",
              "      <td>Angola</td>\n",
              "      <td>32866268.0</td>\n",
              "    </tr>\n",
              "  </tbody>\n",
              "</table>\n",
              "</div>"
            ],
            "text/plain": [
              "   UID iso2 iso3  code3  ...       Lat      Long_ Combined_Key  Population\n",
              "0    4   AF  AFG    4.0  ...  33.93911  67.709953  Afghanistan  38928341.0\n",
              "1    8   AL  ALB    8.0  ...  41.15330  20.168300      Albania   2877800.0\n",
              "2   12   DZ  DZA   12.0  ...  28.03390   1.659600      Algeria  43851043.0\n",
              "3   20   AD  AND   20.0  ...  42.50630   1.521800      Andorra     77265.0\n",
              "4   24   AO  AGO   24.0  ... -11.20270  17.873900       Angola  32866268.0\n",
              "\n",
              "[5 rows x 12 columns]"
            ]
          },
          "metadata": {
            "tags": []
          },
          "execution_count": 223
        }
      ]
    },
    {
      "cell_type": "code",
      "metadata": {
        "id": "mz8SHcBtACWL",
        "colab_type": "code",
        "colab": {
          "base_uri": "https://localhost:8080/",
          "height": 235
        },
        "outputId": "063bc46b-15fb-4ac2-cd86-e43ace17660d"
      },
      "source": [
        "df_ref.isna().sum()"
      ],
      "execution_count": null,
      "outputs": [
        {
          "output_type": "execute_result",
          "data": {
            "text/plain": [
              "UID                 0\n",
              "iso2                3\n",
              "iso3                2\n",
              "code3               2\n",
              "FIPS              719\n",
              "Admin2            760\n",
              "Province_State    188\n",
              "Country_Region      0\n",
              "Lat               142\n",
              "Long_             142\n",
              "Combined_Key        0\n",
              "Population        137\n",
              "dtype: int64"
            ]
          },
          "metadata": {
            "tags": []
          },
          "execution_count": 224
        }
      ]
    },
    {
      "cell_type": "code",
      "metadata": {
        "id": "SwlZ-L39rV6c",
        "colab_type": "code",
        "colab": {
          "base_uri": "https://localhost:8080/",
          "height": 101
        },
        "outputId": "870516e2-44bb-45e6-d080-f16d289b83f0"
      },
      "source": [
        "#Using only data we need\n",
        "df_countries_ref=df_ref[df_ref[\"Country_Region\"].isin(select_countries)];\n",
        "#cleaning column names\n",
        "df_countries_ref.rename(columns={'Province_State':'State','Country_Region':'Country','Long_':'long','iso3':'iso'}, inplace=True);\n",
        "#dropping some columns that we don't need\n",
        "df_countries_ref = df_countries_ref.drop(['FIPS','Admin2','iso2','code3','UID','Combined_Key','Lat','long'], axis=1 );"
      ],
      "execution_count": null,
      "outputs": [
        {
          "output_type": "stream",
          "text": [
            "/usr/local/lib/python3.6/dist-packages/pandas/core/frame.py:4133: SettingWithCopyWarning: \n",
            "A value is trying to be set on a copy of a slice from a DataFrame\n",
            "\n",
            "See the caveats in the documentation: https://pandas.pydata.org/pandas-docs/stable/user_guide/indexing.html#returning-a-view-versus-a-copy\n",
            "  errors=errors,\n"
          ],
          "name": "stderr"
        }
      ]
    },
    {
      "cell_type": "code",
      "metadata": {
        "id": "9af8TShqkzwR",
        "colab_type": "code",
        "colab": {
          "base_uri": "https://localhost:8080/",
          "height": 195
        },
        "outputId": "784941ee-9ed0-44c9-dfd5-02c484658598"
      },
      "source": [
        "df_countries_ref.sample(5)"
      ],
      "execution_count": null,
      "outputs": [
        {
          "output_type": "execute_result",
          "data": {
            "text/html": [
              "<div>\n",
              "<style scoped>\n",
              "    .dataframe tbody tr th:only-of-type {\n",
              "        vertical-align: middle;\n",
              "    }\n",
              "\n",
              "    .dataframe tbody tr th {\n",
              "        vertical-align: top;\n",
              "    }\n",
              "\n",
              "    .dataframe thead th {\n",
              "        text-align: right;\n",
              "    }\n",
              "</style>\n",
              "<table border=\"1\" class=\"dataframe\">\n",
              "  <thead>\n",
              "    <tr style=\"text-align: right;\">\n",
              "      <th></th>\n",
              "      <th>iso</th>\n",
              "      <th>State</th>\n",
              "      <th>Country</th>\n",
              "      <th>Population</th>\n",
              "    </tr>\n",
              "  </thead>\n",
              "  <tbody>\n",
              "    <tr>\n",
              "      <th>1910</th>\n",
              "      <td>USA</td>\n",
              "      <td>Kentucky</td>\n",
              "      <td>US</td>\n",
              "      <td>8869.0</td>\n",
              "    </tr>\n",
              "    <tr>\n",
              "      <th>2014</th>\n",
              "      <td>USA</td>\n",
              "      <td>Louisiana</td>\n",
              "      <td>US</td>\n",
              "      <td>69830.0</td>\n",
              "    </tr>\n",
              "    <tr>\n",
              "      <th>1706</th>\n",
              "      <td>USA</td>\n",
              "      <td>Iowa</td>\n",
              "      <td>US</td>\n",
              "      <td>10689.0</td>\n",
              "    </tr>\n",
              "    <tr>\n",
              "      <th>3521</th>\n",
              "      <td>USA</td>\n",
              "      <td>Texas</td>\n",
              "      <td>US</td>\n",
              "      <td>14760.0</td>\n",
              "    </tr>\n",
              "    <tr>\n",
              "      <th>2863</th>\n",
              "      <td>USA</td>\n",
              "      <td>North Carolina</td>\n",
              "      <td>US</td>\n",
              "      <td>56177.0</td>\n",
              "    </tr>\n",
              "  </tbody>\n",
              "</table>\n",
              "</div>"
            ],
            "text/plain": [
              "      iso           State Country  Population\n",
              "1910  USA        Kentucky      US      8869.0\n",
              "2014  USA       Louisiana      US     69830.0\n",
              "1706  USA            Iowa      US     10689.0\n",
              "3521  USA           Texas      US     14760.0\n",
              "2863  USA  North Carolina      US     56177.0"
            ]
          },
          "metadata": {
            "tags": []
          },
          "execution_count": 226
        }
      ]
    },
    {
      "cell_type": "code",
      "metadata": {
        "id": "tETfAv7WOijj",
        "colab_type": "code",
        "colab": {
          "base_uri": "https://localhost:8080/",
          "height": 402
        },
        "outputId": "4fc12874-753e-47ef-d674-2dccb4acecac"
      },
      "source": [
        "#replace NaN values with 0\n",
        "df_countries_ref[['State']].fillna(0)"
      ],
      "execution_count": null,
      "outputs": [
        {
          "output_type": "execute_result",
          "data": {
            "text/html": [
              "<div>\n",
              "<style scoped>\n",
              "    .dataframe tbody tr th:only-of-type {\n",
              "        vertical-align: middle;\n",
              "    }\n",
              "\n",
              "    .dataframe tbody tr th {\n",
              "        vertical-align: top;\n",
              "    }\n",
              "\n",
              "    .dataframe thead th {\n",
              "        text-align: right;\n",
              "    }\n",
              "</style>\n",
              "<table border=\"1\" class=\"dataframe\">\n",
              "  <thead>\n",
              "    <tr style=\"text-align: right;\">\n",
              "      <th></th>\n",
              "      <th>State</th>\n",
              "    </tr>\n",
              "  </thead>\n",
              "  <tbody>\n",
              "    <tr>\n",
              "      <th>154</th>\n",
              "      <td>0</td>\n",
              "    </tr>\n",
              "    <tr>\n",
              "      <th>155</th>\n",
              "      <td>Baden-Wurttemberg</td>\n",
              "    </tr>\n",
              "    <tr>\n",
              "      <th>156</th>\n",
              "      <td>Bayern</td>\n",
              "    </tr>\n",
              "    <tr>\n",
              "      <th>157</th>\n",
              "      <td>Berlin</td>\n",
              "    </tr>\n",
              "    <tr>\n",
              "      <th>158</th>\n",
              "      <td>Brandenburg</td>\n",
              "    </tr>\n",
              "    <tr>\n",
              "      <th>...</th>\n",
              "      <td>...</td>\n",
              "    </tr>\n",
              "    <tr>\n",
              "      <th>4016</th>\n",
              "      <td>Wyoming</td>\n",
              "    </tr>\n",
              "    <tr>\n",
              "      <th>4017</th>\n",
              "      <td>Wyoming</td>\n",
              "    </tr>\n",
              "    <tr>\n",
              "      <th>4018</th>\n",
              "      <td>Wyoming</td>\n",
              "    </tr>\n",
              "    <tr>\n",
              "      <th>4019</th>\n",
              "      <td>Wyoming</td>\n",
              "    </tr>\n",
              "    <tr>\n",
              "      <th>4020</th>\n",
              "      <td>Wyoming</td>\n",
              "    </tr>\n",
              "  </tbody>\n",
              "</table>\n",
              "<p>3453 rows × 1 columns</p>\n",
              "</div>"
            ],
            "text/plain": [
              "                  State\n",
              "154                   0\n",
              "155   Baden-Wurttemberg\n",
              "156              Bayern\n",
              "157              Berlin\n",
              "158         Brandenburg\n",
              "...                 ...\n",
              "4016            Wyoming\n",
              "4017            Wyoming\n",
              "4018            Wyoming\n",
              "4019            Wyoming\n",
              "4020            Wyoming\n",
              "\n",
              "[3453 rows x 1 columns]"
            ]
          },
          "metadata": {
            "tags": []
          },
          "execution_count": 227
        }
      ]
    },
    {
      "cell_type": "code",
      "metadata": {
        "id": "8t01XuWr_kpd",
        "colab_type": "code",
        "colab": {}
      },
      "source": [
        "#conacat  df1 and df2 \n",
        "#countries_info = pd.concat([df2, df1], axis=1)\n",
        "countries_info=df_countries_date.merge(df_countries_ref , on='Country' , how='left')"
      ],
      "execution_count": null,
      "outputs": []
    },
    {
      "cell_type": "code",
      "metadata": {
        "id": "iAytCjpnFSMg",
        "colab_type": "code",
        "colab": {
          "base_uri": "https://localhost:8080/",
          "height": 322
        },
        "outputId": "fae88ce5-6917-470e-faee-4b4d6437f27f"
      },
      "source": [
        "df_countries_grouped = countries_info.groupby(['Date' ,'Country'])['Confirmed', 'Deaths', 'Recovered', 'Active'].sum().reset_index\n",
        "df_countries_grouped"
      ],
      "execution_count": null,
      "outputs": [
        {
          "output_type": "stream",
          "text": [
            "/usr/local/lib/python3.6/dist-packages/ipykernel_launcher.py:1: FutureWarning: Indexing with multiple keys (implicitly converted to a tuple of keys) will be deprecated, use a list instead.\n",
            "  \"\"\"Entry point for launching an IPython kernel.\n"
          ],
          "name": "stderr"
        },
        {
          "output_type": "execute_result",
          "data": {
            "text/plain": [
              "<bound method DataFrame.reset_index of                             Confirmed     Deaths   Recovered      Active\n",
              "Date       Country                                                      \n",
              "2020-01-22 China                18632        578         952       17102\n",
              "           Germany                  0          0           0           0\n",
              "           India                    0          0           0           0\n",
              "           Iran                     0          0           0           0\n",
              "           Italy                    0          0           0           0\n",
              "...                               ...        ...         ...         ...\n",
              "2020-06-08 Iran                173832       8351      136360       29121\n",
              "           Italy              5176116     747208     3664848      764060\n",
              "           Korea, South         11852        274       10589         989\n",
              "           US              6518021628  368930760  1723567128  4425523740\n",
              "           United Kingdom     4621344     650880       20080     3950384\n",
              "\n",
              "[1112 rows x 4 columns]>"
            ]
          },
          "metadata": {
            "tags": []
          },
          "execution_count": 229
        }
      ]
    },
    {
      "cell_type": "code",
      "metadata": {
        "id": "lClxEyh42rhz",
        "colab_type": "code",
        "colab": {}
      },
      "source": [
        ""
      ],
      "execution_count": null,
      "outputs": []
    },
    {
      "cell_type": "code",
      "metadata": {
        "id": "3hNVIUveXJX6",
        "colab_type": "code",
        "colab": {
          "base_uri": "https://localhost:8080/",
          "height": 195
        },
        "outputId": "51415f10-0447-43f9-bf94-c9313ffa2ab6"
      },
      "source": [
        "df_time_series=pd.read_csv('https://raw.githubusercontent.com/datasets/covid-19/master/data/time-series-19-covid-combined.csv')\n",
        "df_time_series.head()"
      ],
      "execution_count": null,
      "outputs": [
        {
          "output_type": "execute_result",
          "data": {
            "text/html": [
              "<div>\n",
              "<style scoped>\n",
              "    .dataframe tbody tr th:only-of-type {\n",
              "        vertical-align: middle;\n",
              "    }\n",
              "\n",
              "    .dataframe tbody tr th {\n",
              "        vertical-align: top;\n",
              "    }\n",
              "\n",
              "    .dataframe thead th {\n",
              "        text-align: right;\n",
              "    }\n",
              "</style>\n",
              "<table border=\"1\" class=\"dataframe\">\n",
              "  <thead>\n",
              "    <tr style=\"text-align: right;\">\n",
              "      <th></th>\n",
              "      <th>Date</th>\n",
              "      <th>Country/Region</th>\n",
              "      <th>Province/State</th>\n",
              "      <th>Lat</th>\n",
              "      <th>Long</th>\n",
              "      <th>Confirmed</th>\n",
              "      <th>Recovered</th>\n",
              "      <th>Deaths</th>\n",
              "    </tr>\n",
              "  </thead>\n",
              "  <tbody>\n",
              "    <tr>\n",
              "      <th>0</th>\n",
              "      <td>2020-01-22</td>\n",
              "      <td>Afghanistan</td>\n",
              "      <td>NaN</td>\n",
              "      <td>33.0</td>\n",
              "      <td>65.0</td>\n",
              "      <td>0.0</td>\n",
              "      <td>0.0</td>\n",
              "      <td>0.0</td>\n",
              "    </tr>\n",
              "    <tr>\n",
              "      <th>1</th>\n",
              "      <td>2020-01-23</td>\n",
              "      <td>Afghanistan</td>\n",
              "      <td>NaN</td>\n",
              "      <td>33.0</td>\n",
              "      <td>65.0</td>\n",
              "      <td>0.0</td>\n",
              "      <td>0.0</td>\n",
              "      <td>0.0</td>\n",
              "    </tr>\n",
              "    <tr>\n",
              "      <th>2</th>\n",
              "      <td>2020-01-24</td>\n",
              "      <td>Afghanistan</td>\n",
              "      <td>NaN</td>\n",
              "      <td>33.0</td>\n",
              "      <td>65.0</td>\n",
              "      <td>0.0</td>\n",
              "      <td>0.0</td>\n",
              "      <td>0.0</td>\n",
              "    </tr>\n",
              "    <tr>\n",
              "      <th>3</th>\n",
              "      <td>2020-01-25</td>\n",
              "      <td>Afghanistan</td>\n",
              "      <td>NaN</td>\n",
              "      <td>33.0</td>\n",
              "      <td>65.0</td>\n",
              "      <td>0.0</td>\n",
              "      <td>0.0</td>\n",
              "      <td>0.0</td>\n",
              "    </tr>\n",
              "    <tr>\n",
              "      <th>4</th>\n",
              "      <td>2020-01-26</td>\n",
              "      <td>Afghanistan</td>\n",
              "      <td>NaN</td>\n",
              "      <td>33.0</td>\n",
              "      <td>65.0</td>\n",
              "      <td>0.0</td>\n",
              "      <td>0.0</td>\n",
              "      <td>0.0</td>\n",
              "    </tr>\n",
              "  </tbody>\n",
              "</table>\n",
              "</div>"
            ],
            "text/plain": [
              "         Date Country/Region Province/State  ...  Confirmed  Recovered  Deaths\n",
              "0  2020-01-22    Afghanistan            NaN  ...        0.0        0.0     0.0\n",
              "1  2020-01-23    Afghanistan            NaN  ...        0.0        0.0     0.0\n",
              "2  2020-01-24    Afghanistan            NaN  ...        0.0        0.0     0.0\n",
              "3  2020-01-25    Afghanistan            NaN  ...        0.0        0.0     0.0\n",
              "4  2020-01-26    Afghanistan            NaN  ...        0.0        0.0     0.0\n",
              "\n",
              "[5 rows x 8 columns]"
            ]
          },
          "metadata": {
            "tags": []
          },
          "execution_count": 230
        }
      ]
    },
    {
      "cell_type": "code",
      "metadata": {
        "id": "7ui4J2CC_6Tl",
        "colab_type": "code",
        "colab": {
          "base_uri": "https://localhost:8080/",
          "height": 195
        },
        "outputId": "2e1261f1-e2e8-4b84-a77f-9491ac9aaaf7"
      },
      "source": [
        "df_time_series=df_time_series.drop(['Lat','Long'],axis=1)\n",
        "df_time_series.columns=(['Date', 'Country', 'State', 'Confirmed', 'Recovered', 'Deaths'])\n",
        "df_time_series.head()"
      ],
      "execution_count": null,
      "outputs": [
        {
          "output_type": "execute_result",
          "data": {
            "text/html": [
              "<div>\n",
              "<style scoped>\n",
              "    .dataframe tbody tr th:only-of-type {\n",
              "        vertical-align: middle;\n",
              "    }\n",
              "\n",
              "    .dataframe tbody tr th {\n",
              "        vertical-align: top;\n",
              "    }\n",
              "\n",
              "    .dataframe thead th {\n",
              "        text-align: right;\n",
              "    }\n",
              "</style>\n",
              "<table border=\"1\" class=\"dataframe\">\n",
              "  <thead>\n",
              "    <tr style=\"text-align: right;\">\n",
              "      <th></th>\n",
              "      <th>Date</th>\n",
              "      <th>Country</th>\n",
              "      <th>State</th>\n",
              "      <th>Confirmed</th>\n",
              "      <th>Recovered</th>\n",
              "      <th>Deaths</th>\n",
              "    </tr>\n",
              "  </thead>\n",
              "  <tbody>\n",
              "    <tr>\n",
              "      <th>0</th>\n",
              "      <td>2020-01-22</td>\n",
              "      <td>Afghanistan</td>\n",
              "      <td>NaN</td>\n",
              "      <td>0.0</td>\n",
              "      <td>0.0</td>\n",
              "      <td>0.0</td>\n",
              "    </tr>\n",
              "    <tr>\n",
              "      <th>1</th>\n",
              "      <td>2020-01-23</td>\n",
              "      <td>Afghanistan</td>\n",
              "      <td>NaN</td>\n",
              "      <td>0.0</td>\n",
              "      <td>0.0</td>\n",
              "      <td>0.0</td>\n",
              "    </tr>\n",
              "    <tr>\n",
              "      <th>2</th>\n",
              "      <td>2020-01-24</td>\n",
              "      <td>Afghanistan</td>\n",
              "      <td>NaN</td>\n",
              "      <td>0.0</td>\n",
              "      <td>0.0</td>\n",
              "      <td>0.0</td>\n",
              "    </tr>\n",
              "    <tr>\n",
              "      <th>3</th>\n",
              "      <td>2020-01-25</td>\n",
              "      <td>Afghanistan</td>\n",
              "      <td>NaN</td>\n",
              "      <td>0.0</td>\n",
              "      <td>0.0</td>\n",
              "      <td>0.0</td>\n",
              "    </tr>\n",
              "    <tr>\n",
              "      <th>4</th>\n",
              "      <td>2020-01-26</td>\n",
              "      <td>Afghanistan</td>\n",
              "      <td>NaN</td>\n",
              "      <td>0.0</td>\n",
              "      <td>0.0</td>\n",
              "      <td>0.0</td>\n",
              "    </tr>\n",
              "  </tbody>\n",
              "</table>\n",
              "</div>"
            ],
            "text/plain": [
              "         Date      Country State  Confirmed  Recovered  Deaths\n",
              "0  2020-01-22  Afghanistan   NaN        0.0        0.0     0.0\n",
              "1  2020-01-23  Afghanistan   NaN        0.0        0.0     0.0\n",
              "2  2020-01-24  Afghanistan   NaN        0.0        0.0     0.0\n",
              "3  2020-01-25  Afghanistan   NaN        0.0        0.0     0.0\n",
              "4  2020-01-26  Afghanistan   NaN        0.0        0.0     0.0"
            ]
          },
          "metadata": {
            "tags": []
          },
          "execution_count": 231
        }
      ]
    },
    {
      "cell_type": "markdown",
      "metadata": {
        "id": "HFJVhnWrRLcY",
        "colab_type": "text"
      },
      "source": [
        "**Understanding testing data**"
      ]
    },
    {
      "cell_type": "code",
      "metadata": {
        "id": "O38t6-PMxrys",
        "colab_type": "code",
        "colab": {
          "base_uri": "https://localhost:8080/",
          "height": 299
        },
        "outputId": "9dc77364-f1e5-45f7-d7e8-44d67ab9b7d2"
      },
      "source": [
        " df_owid=pd.read_csv('https://raw.githubusercontent.com/owid/covid-19-data/master/public/data/owid-covid-data.csv')\n",
        " df_owid.sample(5)"
      ],
      "execution_count": null,
      "outputs": [
        {
          "output_type": "execute_result",
          "data": {
            "text/html": [
              "<div>\n",
              "<style scoped>\n",
              "    .dataframe tbody tr th:only-of-type {\n",
              "        vertical-align: middle;\n",
              "    }\n",
              "\n",
              "    .dataframe tbody tr th {\n",
              "        vertical-align: top;\n",
              "    }\n",
              "\n",
              "    .dataframe thead th {\n",
              "        text-align: right;\n",
              "    }\n",
              "</style>\n",
              "<table border=\"1\" class=\"dataframe\">\n",
              "  <thead>\n",
              "    <tr style=\"text-align: right;\">\n",
              "      <th></th>\n",
              "      <th>iso_code</th>\n",
              "      <th>continent</th>\n",
              "      <th>location</th>\n",
              "      <th>date</th>\n",
              "      <th>total_cases</th>\n",
              "      <th>new_cases</th>\n",
              "      <th>total_deaths</th>\n",
              "      <th>new_deaths</th>\n",
              "      <th>total_cases_per_million</th>\n",
              "      <th>new_cases_per_million</th>\n",
              "      <th>total_deaths_per_million</th>\n",
              "      <th>new_deaths_per_million</th>\n",
              "      <th>total_tests</th>\n",
              "      <th>new_tests</th>\n",
              "      <th>total_tests_per_thousand</th>\n",
              "      <th>new_tests_per_thousand</th>\n",
              "      <th>new_tests_smoothed</th>\n",
              "      <th>new_tests_smoothed_per_thousand</th>\n",
              "      <th>tests_units</th>\n",
              "      <th>stringency_index</th>\n",
              "      <th>population</th>\n",
              "      <th>population_density</th>\n",
              "      <th>median_age</th>\n",
              "      <th>aged_65_older</th>\n",
              "      <th>aged_70_older</th>\n",
              "      <th>gdp_per_capita</th>\n",
              "      <th>extreme_poverty</th>\n",
              "      <th>cvd_death_rate</th>\n",
              "      <th>diabetes_prevalence</th>\n",
              "      <th>female_smokers</th>\n",
              "      <th>male_smokers</th>\n",
              "      <th>handwashing_facilities</th>\n",
              "      <th>hospital_beds_per_thousand</th>\n",
              "    </tr>\n",
              "  </thead>\n",
              "  <tbody>\n",
              "    <tr>\n",
              "      <th>10581</th>\n",
              "      <td>ISR</td>\n",
              "      <td>Asia</td>\n",
              "      <td>Israel</td>\n",
              "      <td>2020-02-25</td>\n",
              "      <td>2</td>\n",
              "      <td>0</td>\n",
              "      <td>0</td>\n",
              "      <td>0</td>\n",
              "      <td>0.231</td>\n",
              "      <td>0.000</td>\n",
              "      <td>0.000</td>\n",
              "      <td>0.000</td>\n",
              "      <td>715.0</td>\n",
              "      <td>108.0</td>\n",
              "      <td>0.083</td>\n",
              "      <td>0.012</td>\n",
              "      <td>50.0</td>\n",
              "      <td>0.006</td>\n",
              "      <td>tests performed</td>\n",
              "      <td>19.44</td>\n",
              "      <td>8655541.0</td>\n",
              "      <td>402.606</td>\n",
              "      <td>30.6</td>\n",
              "      <td>11.733</td>\n",
              "      <td>7.359</td>\n",
              "      <td>33132.320</td>\n",
              "      <td>0.5</td>\n",
              "      <td>93.320</td>\n",
              "      <td>6.74</td>\n",
              "      <td>15.4</td>\n",
              "      <td>35.4</td>\n",
              "      <td>NaN</td>\n",
              "      <td>2.99</td>\n",
              "    </tr>\n",
              "    <tr>\n",
              "      <th>14580</th>\n",
              "      <td>MMR</td>\n",
              "      <td>Asia</td>\n",
              "      <td>Myanmar</td>\n",
              "      <td>2020-06-04</td>\n",
              "      <td>234</td>\n",
              "      <td>1</td>\n",
              "      <td>6</td>\n",
              "      <td>0</td>\n",
              "      <td>4.301</td>\n",
              "      <td>0.018</td>\n",
              "      <td>0.110</td>\n",
              "      <td>0.000</td>\n",
              "      <td>33587.0</td>\n",
              "      <td>1886.0</td>\n",
              "      <td>0.617</td>\n",
              "      <td>0.035</td>\n",
              "      <td>1442.0</td>\n",
              "      <td>0.027</td>\n",
              "      <td>samples tested</td>\n",
              "      <td>NaN</td>\n",
              "      <td>54409794.0</td>\n",
              "      <td>81.721</td>\n",
              "      <td>29.1</td>\n",
              "      <td>5.732</td>\n",
              "      <td>3.120</td>\n",
              "      <td>5591.597</td>\n",
              "      <td>6.4</td>\n",
              "      <td>202.104</td>\n",
              "      <td>4.61</td>\n",
              "      <td>6.3</td>\n",
              "      <td>35.2</td>\n",
              "      <td>79.287</td>\n",
              "      <td>0.90</td>\n",
              "    </tr>\n",
              "    <tr>\n",
              "      <th>20348</th>\n",
              "      <td>SYR</td>\n",
              "      <td>Asia</td>\n",
              "      <td>Syria</td>\n",
              "      <td>2020-05-20</td>\n",
              "      <td>58</td>\n",
              "      <td>0</td>\n",
              "      <td>3</td>\n",
              "      <td>0</td>\n",
              "      <td>3.314</td>\n",
              "      <td>0.000</td>\n",
              "      <td>0.171</td>\n",
              "      <td>0.000</td>\n",
              "      <td>NaN</td>\n",
              "      <td>NaN</td>\n",
              "      <td>NaN</td>\n",
              "      <td>NaN</td>\n",
              "      <td>NaN</td>\n",
              "      <td>NaN</td>\n",
              "      <td>NaN</td>\n",
              "      <td>79.63</td>\n",
              "      <td>17500657.0</td>\n",
              "      <td>NaN</td>\n",
              "      <td>21.7</td>\n",
              "      <td>NaN</td>\n",
              "      <td>2.577</td>\n",
              "      <td>NaN</td>\n",
              "      <td>NaN</td>\n",
              "      <td>376.264</td>\n",
              "      <td>NaN</td>\n",
              "      <td>NaN</td>\n",
              "      <td>NaN</td>\n",
              "      <td>70.598</td>\n",
              "      <td>1.50</td>\n",
              "    </tr>\n",
              "    <tr>\n",
              "      <th>8138</th>\n",
              "      <td>GHA</td>\n",
              "      <td>Africa</td>\n",
              "      <td>Ghana</td>\n",
              "      <td>2020-05-14</td>\n",
              "      <td>5408</td>\n",
              "      <td>281</td>\n",
              "      <td>24</td>\n",
              "      <td>2</td>\n",
              "      <td>174.042</td>\n",
              "      <td>9.043</td>\n",
              "      <td>0.772</td>\n",
              "      <td>0.064</td>\n",
              "      <td>171642.0</td>\n",
              "      <td>3938.0</td>\n",
              "      <td>5.524</td>\n",
              "      <td>0.127</td>\n",
              "      <td>3099.0</td>\n",
              "      <td>0.100</td>\n",
              "      <td>people tested</td>\n",
              "      <td>62.04</td>\n",
              "      <td>31072945.0</td>\n",
              "      <td>126.719</td>\n",
              "      <td>21.1</td>\n",
              "      <td>3.385</td>\n",
              "      <td>1.948</td>\n",
              "      <td>4227.630</td>\n",
              "      <td>12.0</td>\n",
              "      <td>298.245</td>\n",
              "      <td>4.97</td>\n",
              "      <td>0.3</td>\n",
              "      <td>7.7</td>\n",
              "      <td>41.047</td>\n",
              "      <td>0.90</td>\n",
              "    </tr>\n",
              "    <tr>\n",
              "      <th>19589</th>\n",
              "      <td>LKA</td>\n",
              "      <td>Asia</td>\n",
              "      <td>Sri Lanka</td>\n",
              "      <td>2020-02-08</td>\n",
              "      <td>1</td>\n",
              "      <td>0</td>\n",
              "      <td>0</td>\n",
              "      <td>0</td>\n",
              "      <td>0.047</td>\n",
              "      <td>0.000</td>\n",
              "      <td>0.000</td>\n",
              "      <td>0.000</td>\n",
              "      <td>NaN</td>\n",
              "      <td>NaN</td>\n",
              "      <td>NaN</td>\n",
              "      <td>NaN</td>\n",
              "      <td>NaN</td>\n",
              "      <td>NaN</td>\n",
              "      <td>NaN</td>\n",
              "      <td>8.33</td>\n",
              "      <td>21413250.0</td>\n",
              "      <td>341.955</td>\n",
              "      <td>34.1</td>\n",
              "      <td>10.069</td>\n",
              "      <td>5.331</td>\n",
              "      <td>11669.077</td>\n",
              "      <td>0.7</td>\n",
              "      <td>197.093</td>\n",
              "      <td>10.68</td>\n",
              "      <td>0.3</td>\n",
              "      <td>27.0</td>\n",
              "      <td>NaN</td>\n",
              "      <td>3.60</td>\n",
              "    </tr>\n",
              "  </tbody>\n",
              "</table>\n",
              "</div>"
            ],
            "text/plain": [
              "      iso_code continent  ... handwashing_facilities hospital_beds_per_thousand\n",
              "10581      ISR      Asia  ...                    NaN                       2.99\n",
              "14580      MMR      Asia  ...                 79.287                       0.90\n",
              "20348      SYR      Asia  ...                 70.598                       1.50\n",
              "8138       GHA    Africa  ...                 41.047                       0.90\n",
              "19589      LKA      Asia  ...                    NaN                       3.60\n",
              "\n",
              "[5 rows x 33 columns]"
            ]
          },
          "metadata": {
            "tags": []
          },
          "execution_count": 232
        }
      ]
    },
    {
      "cell_type": "code",
      "metadata": {
        "id": "exTTjC41BiOv",
        "colab_type": "code",
        "colab": {}
      },
      "source": [
        ""
      ],
      "execution_count": null,
      "outputs": []
    },
    {
      "cell_type": "code",
      "metadata": {
        "id": "6LeKLyGyMhJx",
        "colab_type": "code",
        "colab": {
          "base_uri": "https://localhost:8080/",
          "height": 299
        },
        "outputId": "e96029b9-0820-42db-a282-a3ad5f8b8955"
      },
      "source": [
        "#Segregationg and using only data we require in new dataframe df_testing\n",
        "#selecting countries\n",
        "select_countries_2 = ['Germany', 'United States', 'Italy', 'India','China','South Korea','United Kingdom','Iran']\n",
        "df_testing=df_owid[df_owid[\"location\"].isin(select_countries_2)]\n",
        "#removin extra columns\n",
        "df_testing = df_testing.drop(['handwashing_facilities','extreme_poverty','stringency_index','total_cases_per_million',\n",
        "                              'new_cases_per_million','total_deaths_per_million','new_deaths_per_million','new_tests_smoothed','new_tests_smoothed_per_thousand','population_density','gdp_per_capita','cvd_death_rate'], axis=1 );\n",
        "df_testing.rename(columns={'iso_code':'iso'}, inplace=True);\n",
        "df_testing.sample(5)"
      ],
      "execution_count": null,
      "outputs": [
        {
          "output_type": "execute_result",
          "data": {
            "text/html": [
              "<div>\n",
              "<style scoped>\n",
              "    .dataframe tbody tr th:only-of-type {\n",
              "        vertical-align: middle;\n",
              "    }\n",
              "\n",
              "    .dataframe tbody tr th {\n",
              "        vertical-align: top;\n",
              "    }\n",
              "\n",
              "    .dataframe thead th {\n",
              "        text-align: right;\n",
              "    }\n",
              "</style>\n",
              "<table border=\"1\" class=\"dataframe\">\n",
              "  <thead>\n",
              "    <tr style=\"text-align: right;\">\n",
              "      <th></th>\n",
              "      <th>iso</th>\n",
              "      <th>continent</th>\n",
              "      <th>location</th>\n",
              "      <th>date</th>\n",
              "      <th>total_cases</th>\n",
              "      <th>new_cases</th>\n",
              "      <th>total_deaths</th>\n",
              "      <th>new_deaths</th>\n",
              "      <th>total_tests</th>\n",
              "      <th>new_tests</th>\n",
              "      <th>total_tests_per_thousand</th>\n",
              "      <th>new_tests_per_thousand</th>\n",
              "      <th>tests_units</th>\n",
              "      <th>population</th>\n",
              "      <th>median_age</th>\n",
              "      <th>aged_65_older</th>\n",
              "      <th>aged_70_older</th>\n",
              "      <th>diabetes_prevalence</th>\n",
              "      <th>female_smokers</th>\n",
              "      <th>male_smokers</th>\n",
              "      <th>hospital_beds_per_thousand</th>\n",
              "    </tr>\n",
              "  </thead>\n",
              "  <tbody>\n",
              "    <tr>\n",
              "      <th>21708</th>\n",
              "      <td>GBR</td>\n",
              "      <td>Europe</td>\n",
              "      <td>United Kingdom</td>\n",
              "      <td>2020-02-14</td>\n",
              "      <td>9</td>\n",
              "      <td>0</td>\n",
              "      <td>0</td>\n",
              "      <td>0</td>\n",
              "      <td>NaN</td>\n",
              "      <td>NaN</td>\n",
              "      <td>NaN</td>\n",
              "      <td>NaN</td>\n",
              "      <td>NaN</td>\n",
              "      <td>6.788600e+07</td>\n",
              "      <td>40.8</td>\n",
              "      <td>18.517</td>\n",
              "      <td>12.527</td>\n",
              "      <td>4.28</td>\n",
              "      <td>20.0</td>\n",
              "      <td>24.7</td>\n",
              "      <td>2.54</td>\n",
              "    </tr>\n",
              "    <tr>\n",
              "      <th>10690</th>\n",
              "      <td>ITA</td>\n",
              "      <td>Europe</td>\n",
              "      <td>Italy</td>\n",
              "      <td>2020-01-02</td>\n",
              "      <td>0</td>\n",
              "      <td>0</td>\n",
              "      <td>0</td>\n",
              "      <td>0</td>\n",
              "      <td>NaN</td>\n",
              "      <td>NaN</td>\n",
              "      <td>NaN</td>\n",
              "      <td>NaN</td>\n",
              "      <td>NaN</td>\n",
              "      <td>6.046183e+07</td>\n",
              "      <td>47.9</td>\n",
              "      <td>23.021</td>\n",
              "      <td>16.240</td>\n",
              "      <td>4.78</td>\n",
              "      <td>19.8</td>\n",
              "      <td>27.8</td>\n",
              "      <td>3.18</td>\n",
              "    </tr>\n",
              "    <tr>\n",
              "      <th>21768</th>\n",
              "      <td>GBR</td>\n",
              "      <td>Europe</td>\n",
              "      <td>United Kingdom</td>\n",
              "      <td>2020-04-14</td>\n",
              "      <td>88621</td>\n",
              "      <td>4342</td>\n",
              "      <td>13029</td>\n",
              "      <td>744</td>\n",
              "      <td>NaN</td>\n",
              "      <td>NaN</td>\n",
              "      <td>NaN</td>\n",
              "      <td>NaN</td>\n",
              "      <td>NaN</td>\n",
              "      <td>6.788600e+07</td>\n",
              "      <td>40.8</td>\n",
              "      <td>18.517</td>\n",
              "      <td>12.527</td>\n",
              "      <td>4.28</td>\n",
              "      <td>20.0</td>\n",
              "      <td>24.7</td>\n",
              "      <td>2.54</td>\n",
              "    </tr>\n",
              "    <tr>\n",
              "      <th>9650</th>\n",
              "      <td>IND</td>\n",
              "      <td>Asia</td>\n",
              "      <td>India</td>\n",
              "      <td>2020-01-11</td>\n",
              "      <td>0</td>\n",
              "      <td>0</td>\n",
              "      <td>0</td>\n",
              "      <td>0</td>\n",
              "      <td>NaN</td>\n",
              "      <td>NaN</td>\n",
              "      <td>NaN</td>\n",
              "      <td>NaN</td>\n",
              "      <td>NaN</td>\n",
              "      <td>1.380004e+09</td>\n",
              "      <td>28.2</td>\n",
              "      <td>5.989</td>\n",
              "      <td>3.414</td>\n",
              "      <td>10.39</td>\n",
              "      <td>1.9</td>\n",
              "      <td>20.6</td>\n",
              "      <td>0.53</td>\n",
              "    </tr>\n",
              "    <tr>\n",
              "      <th>21959</th>\n",
              "      <td>USA</td>\n",
              "      <td>North America</td>\n",
              "      <td>United States</td>\n",
              "      <td>2020-05-12</td>\n",
              "      <td>1347916</td>\n",
              "      <td>18117</td>\n",
              "      <td>80684</td>\n",
              "      <td>1156</td>\n",
              "      <td>9724879.0</td>\n",
              "      <td>NaN</td>\n",
              "      <td>29.38</td>\n",
              "      <td>NaN</td>\n",
              "      <td>tests performed</td>\n",
              "      <td>3.310026e+08</td>\n",
              "      <td>38.3</td>\n",
              "      <td>15.413</td>\n",
              "      <td>9.732</td>\n",
              "      <td>10.79</td>\n",
              "      <td>19.1</td>\n",
              "      <td>24.6</td>\n",
              "      <td>2.77</td>\n",
              "    </tr>\n",
              "  </tbody>\n",
              "</table>\n",
              "</div>"
            ],
            "text/plain": [
              "       iso      continent  ... male_smokers hospital_beds_per_thousand\n",
              "21708  GBR         Europe  ...         24.7                       2.54\n",
              "10690  ITA         Europe  ...         27.8                       3.18\n",
              "21768  GBR         Europe  ...         24.7                       2.54\n",
              "9650   IND           Asia  ...         20.6                       0.53\n",
              "21959  USA  North America  ...         24.6                       2.77\n",
              "\n",
              "[5 rows x 21 columns]"
            ]
          },
          "metadata": {
            "tags": []
          },
          "execution_count": 233
        }
      ]
    },
    {
      "cell_type": "code",
      "metadata": {
        "id": "fBFxb7DLZXxU",
        "colab_type": "code",
        "colab": {
          "base_uri": "https://localhost:8080/",
          "height": 299
        },
        "outputId": "0296100d-1bc5-45b0-c556-5b2a262cc4d4"
      },
      "source": [
        "df_testing=df_testing.fillna(0)\n",
        "df_testing.sample(5)"
      ],
      "execution_count": null,
      "outputs": [
        {
          "output_type": "execute_result",
          "data": {
            "text/html": [
              "<div>\n",
              "<style scoped>\n",
              "    .dataframe tbody tr th:only-of-type {\n",
              "        vertical-align: middle;\n",
              "    }\n",
              "\n",
              "    .dataframe tbody tr th {\n",
              "        vertical-align: top;\n",
              "    }\n",
              "\n",
              "    .dataframe thead th {\n",
              "        text-align: right;\n",
              "    }\n",
              "</style>\n",
              "<table border=\"1\" class=\"dataframe\">\n",
              "  <thead>\n",
              "    <tr style=\"text-align: right;\">\n",
              "      <th></th>\n",
              "      <th>iso</th>\n",
              "      <th>continent</th>\n",
              "      <th>location</th>\n",
              "      <th>date</th>\n",
              "      <th>total_cases</th>\n",
              "      <th>new_cases</th>\n",
              "      <th>total_deaths</th>\n",
              "      <th>new_deaths</th>\n",
              "      <th>total_tests</th>\n",
              "      <th>new_tests</th>\n",
              "      <th>total_tests_per_thousand</th>\n",
              "      <th>new_tests_per_thousand</th>\n",
              "      <th>tests_units</th>\n",
              "      <th>population</th>\n",
              "      <th>median_age</th>\n",
              "      <th>aged_65_older</th>\n",
              "      <th>aged_70_older</th>\n",
              "      <th>diabetes_prevalence</th>\n",
              "      <th>female_smokers</th>\n",
              "      <th>male_smokers</th>\n",
              "      <th>hospital_beds_per_thousand</th>\n",
              "    </tr>\n",
              "  </thead>\n",
              "  <tbody>\n",
              "    <tr>\n",
              "      <th>10057</th>\n",
              "      <td>IRN</td>\n",
              "      <td>Asia</td>\n",
              "      <td>Iran</td>\n",
              "      <td>2020-04-09</td>\n",
              "      <td>64586</td>\n",
              "      <td>1997</td>\n",
              "      <td>3993</td>\n",
              "      <td>121</td>\n",
              "      <td>231393.0</td>\n",
              "      <td>10418.0</td>\n",
              "      <td>2.755</td>\n",
              "      <td>0.124</td>\n",
              "      <td>tests performed</td>\n",
              "      <td>8.399295e+07</td>\n",
              "      <td>32.4</td>\n",
              "      <td>5.440</td>\n",
              "      <td>3.182</td>\n",
              "      <td>9.59</td>\n",
              "      <td>0.8</td>\n",
              "      <td>21.1</td>\n",
              "      <td>1.50</td>\n",
              "    </tr>\n",
              "    <tr>\n",
              "      <th>4538</th>\n",
              "      <td>CHN</td>\n",
              "      <td>Asia</td>\n",
              "      <td>China</td>\n",
              "      <td>2020-05-30</td>\n",
              "      <td>84123</td>\n",
              "      <td>17</td>\n",
              "      <td>4638</td>\n",
              "      <td>0</td>\n",
              "      <td>0.0</td>\n",
              "      <td>0.0</td>\n",
              "      <td>0.000</td>\n",
              "      <td>0.000</td>\n",
              "      <td>0</td>\n",
              "      <td>1.439324e+09</td>\n",
              "      <td>38.7</td>\n",
              "      <td>10.641</td>\n",
              "      <td>5.929</td>\n",
              "      <td>9.74</td>\n",
              "      <td>1.9</td>\n",
              "      <td>48.4</td>\n",
              "      <td>4.34</td>\n",
              "    </tr>\n",
              "    <tr>\n",
              "      <th>9738</th>\n",
              "      <td>IND</td>\n",
              "      <td>Asia</td>\n",
              "      <td>India</td>\n",
              "      <td>2020-04-09</td>\n",
              "      <td>5734</td>\n",
              "      <td>540</td>\n",
              "      <td>166</td>\n",
              "      <td>17</td>\n",
              "      <td>144910.0</td>\n",
              "      <td>16991.0</td>\n",
              "      <td>0.105</td>\n",
              "      <td>0.012</td>\n",
              "      <td>samples tested</td>\n",
              "      <td>1.380004e+09</td>\n",
              "      <td>28.2</td>\n",
              "      <td>5.989</td>\n",
              "      <td>3.414</td>\n",
              "      <td>10.39</td>\n",
              "      <td>1.9</td>\n",
              "      <td>20.6</td>\n",
              "      <td>0.53</td>\n",
              "    </tr>\n",
              "    <tr>\n",
              "      <th>19296</th>\n",
              "      <td>KOR</td>\n",
              "      <td>Asia</td>\n",
              "      <td>South Korea</td>\n",
              "      <td>2020-05-16</td>\n",
              "      <td>11037</td>\n",
              "      <td>19</td>\n",
              "      <td>262</td>\n",
              "      <td>2</td>\n",
              "      <td>740645.0</td>\n",
              "      <td>13898.0</td>\n",
              "      <td>14.446</td>\n",
              "      <td>0.271</td>\n",
              "      <td>people tested</td>\n",
              "      <td>5.126918e+07</td>\n",
              "      <td>43.4</td>\n",
              "      <td>13.914</td>\n",
              "      <td>8.622</td>\n",
              "      <td>6.80</td>\n",
              "      <td>6.2</td>\n",
              "      <td>40.9</td>\n",
              "      <td>12.27</td>\n",
              "    </tr>\n",
              "    <tr>\n",
              "      <th>9799</th>\n",
              "      <td>IND</td>\n",
              "      <td>Asia</td>\n",
              "      <td>India</td>\n",
              "      <td>2020-06-09</td>\n",
              "      <td>266598</td>\n",
              "      <td>9987</td>\n",
              "      <td>7466</td>\n",
              "      <td>331</td>\n",
              "      <td>4916116.0</td>\n",
              "      <td>141682.0</td>\n",
              "      <td>3.562</td>\n",
              "      <td>0.103</td>\n",
              "      <td>samples tested</td>\n",
              "      <td>1.380004e+09</td>\n",
              "      <td>28.2</td>\n",
              "      <td>5.989</td>\n",
              "      <td>3.414</td>\n",
              "      <td>10.39</td>\n",
              "      <td>1.9</td>\n",
              "      <td>20.6</td>\n",
              "      <td>0.53</td>\n",
              "    </tr>\n",
              "  </tbody>\n",
              "</table>\n",
              "</div>"
            ],
            "text/plain": [
              "       iso continent  ... male_smokers hospital_beds_per_thousand\n",
              "10057  IRN      Asia  ...         21.1                       1.50\n",
              "4538   CHN      Asia  ...         48.4                       4.34\n",
              "9738   IND      Asia  ...         20.6                       0.53\n",
              "19296  KOR      Asia  ...         40.9                      12.27\n",
              "9799   IND      Asia  ...         20.6                       0.53\n",
              "\n",
              "[5 rows x 21 columns]"
            ]
          },
          "metadata": {
            "tags": []
          },
          "execution_count": 234
        }
      ]
    },
    {
      "cell_type": "code",
      "metadata": {
        "id": "-XYeuHyPQpJD",
        "colab_type": "code",
        "colab": {}
      },
      "source": [
        "df_testing['date'] = pd.to_datetime(df_testing['date'])"
      ],
      "execution_count": null,
      "outputs": []
    },
    {
      "cell_type": "code",
      "metadata": {
        "id": "q90XIUDDR2aq",
        "colab_type": "code",
        "colab": {}
      },
      "source": [
        "df_testing['week_date']=[your_date - datetime.timedelta(days=your_date.isoweekday() % 7) for your_date in df_testing.date]"
      ],
      "execution_count": null,
      "outputs": []
    },
    {
      "cell_type": "code",
      "metadata": {
        "id": "j7gqy4E6SW3i",
        "colab_type": "code",
        "colab": {
          "base_uri": "https://localhost:8080/",
          "height": 70
        },
        "outputId": "a35a4ed8-513b-4da7-b012-b7ae2fe51790"
      },
      "source": [
        "df_test_weekly=df_testing.groupby(['location','week_date'])['total_tests','total_cases','new_tests','new_cases','new_deaths','total_deaths'].sum().reset_index()"
      ],
      "execution_count": null,
      "outputs": [
        {
          "output_type": "stream",
          "text": [
            "/usr/local/lib/python3.6/dist-packages/ipykernel_launcher.py:1: FutureWarning: Indexing with multiple keys (implicitly converted to a tuple of keys) will be deprecated, use a list instead.\n",
            "  \"\"\"Entry point for launching an IPython kernel.\n"
          ],
          "name": "stderr"
        }
      ]
    },
    {
      "cell_type": "code",
      "metadata": {
        "id": "1FvB743SXEs7",
        "colab_type": "code",
        "colab": {}
      },
      "source": [
        "#df_testing.groupby(['location','week_date'])['new_tests','new_cases'].sum().reset_index()"
      ],
      "execution_count": null,
      "outputs": []
    },
    {
      "cell_type": "code",
      "metadata": {
        "id": "IVZXZqDDS22U",
        "colab_type": "code",
        "colab": {}
      },
      "source": [
        "df_test_weekly['conf_test']=df_test_weekly['new_cases']/df_test_weekly['new_tests']"
      ],
      "execution_count": null,
      "outputs": []
    },
    {
      "cell_type": "code",
      "metadata": {
        "id": "wejlh8WOVulh",
        "colab_type": "code",
        "colab": {
          "base_uri": "https://localhost:8080/",
          "height": 545
        },
        "outputId": "b11ad9aa-c8ce-477c-87ec-78b1e44bf64e"
      },
      "source": [
        "plt.figure(figsize=(15,8))\n",
        "sns.lineplot( x='week_date' , y= 'conf_test' ,hue= 'location', data=df_test_weekly);\n",
        "plt.xlabel('Date')\n",
        "plt.xlim(pd.to_datetime('2019-12-31'),pd.to_datetime('2020-05-28'))\n",
        "plt.ylabel('numbers of tests')\n",
        "plt.xticks(rotation=90);"
      ],
      "execution_count": null,
      "outputs": [
        {
          "output_type": "display_data",
          "data": {
            "image/png": "[encoded data removed]",
            "text/plain": [
              "<Figure size 1080x576 with 1 Axes>"
            ]
          },
          "metadata": {
            "tags": [],
            "needs_background": "light"
          }
        }
      ]
    },
    {
      "cell_type": "code",
      "metadata": {
        "id": "tHLyoXmEWHm6",
        "colab_type": "code",
        "colab": {
          "base_uri": "https://localhost:8080/",
          "height": 556
        },
        "outputId": "91b1dae6-04dd-4412-e0cc-f1d90d9f7e0d"
      },
      "source": [
        "plt.figure(figsize=(15,8))\n",
        "sns.lineplot( x='week_date' , y= 'new_tests' ,hue= 'location', data=df_test_weekly);\n",
        "sns.scatterplot( x='week_date' , y= 'new_cases' ,hue= 'location', data=df_test_weekly);\n",
        "plt.xlabel('Date')\n",
        "plt.xlim(pd.to_datetime('2019-12-31'),pd.to_datetime('2020-05-28'))\n",
        "plt.ylabel('numbers of tests')\n",
        "plt.xticks(rotation=90);"
      ],
      "execution_count": null,
      "outputs": [
        {
          "output_type": "display_data",
          "data": {
            "image/png": "[encoded data removed]",
            "text/plain": [
              "<Figure size 1080x576 with 1 Axes>"
            ]
          },
          "metadata": {
            "tags": [],
            "needs_background": "light"
          }
        }
      ]
    },
    {
      "cell_type": "code",
      "metadata": {
        "id": "qDB0EgdgX31T",
        "colab_type": "code",
        "colab": {
          "base_uri": "https://localhost:8080/",
          "height": 509
        },
        "outputId": "62d65b08-78b8-4064-f8a2-d9f4bc9d1e4c"
      },
      "source": [
        "plt.figure(figsize=(15,8))\n",
        "ax1=sns.lineplot( x='week_date' , y= 'new_tests' ,hue= 'location', data=df_test_weekly);\n",
        "ax2=ax1.twinx()\n",
        "sns.scatterplot( x='week_date' , y= 'new_cases' ,hue= 'location', data=df_test_weekly, ax=ax2);\n",
        "plt.xlabel('Date')\n",
        "plt.xlim(pd.to_datetime('2019-12-31'),pd.to_datetime('2020-06-01'))\n",
        "#plt.ylabel('numbers of tests')\n",
        "plt.xticks(rotation=90);"
      ],
      "execution_count": null,
      "outputs": [
        {
          "output_type": "display_data",
          "data": {
            "image/png": "[encoded data removed]",
            "text/plain": [
              "<Figure size 1080x576 with 2 Axes>"
            ]
          },
          "metadata": {
            "tags": [],
            "needs_background": "light"
          }
        }
      ]
    },
    {
      "cell_type": "code",
      "metadata": {
        "id": "-qyDjA9NZDA4",
        "colab_type": "code",
        "colab": {}
      },
      "source": [
        ""
      ],
      "execution_count": null,
      "outputs": []
    },
    {
      "cell_type": "code",
      "metadata": {
        "id": "8QLqwjL1bRfk",
        "colab_type": "code",
        "colab": {
          "base_uri": "https://localhost:8080/",
          "height": 542
        },
        "outputId": "03d4ff74-69c6-4478-edef-8f005a767d4f"
      },
      "source": [
        "plt.figure(figsize=(15,8))\n",
        "ax1=sns.lineplot( x='week_date' , y= 'new_tests', data=df_test_weekly[df_test_weekly['location']=='United States'], color='gray');\n",
        "ax2=ax1.twinx()\n",
        "sns.scatterplot( x='week_date' , y= 'new_cases', data=df_test_weekly[df_test_weekly['location']=='United States'], ax=ax2, color='red');\n",
        "plt.xlabel('Date')\n",
        "plt.xlim(pd.to_datetime('2019-12-31'),pd.to_datetime('2020-06-01'))\n",
        "#plt.ylabel('numbers of tests')\n",
        "plt.xticks(rotation=90),"
      ],
      "execution_count": null,
      "outputs": [
        {
          "output_type": "execute_result",
          "data": {
            "text/plain": [
              "((array([737425., 737456., 737485., 737516., 737546., 737577.]),\n",
              "  <a list of 6 Text major ticklabel objects>),)"
            ]
          },
          "metadata": {
            "tags": []
          },
          "execution_count": 243
        },
        {
          "output_type": "display_data",
          "data": {
            "image/png": "[encoded data removed]",
            "text/plain": [
              "<Figure size 1080x576 with 2 Axes>"
            ]
          },
          "metadata": {
            "tags": [],
            "needs_background": "light"
          }
        }
      ]
    },
    {
      "cell_type": "code",
      "metadata": {
        "id": "5oa7s6H3mmGL",
        "colab_type": "code",
        "colab": {
          "base_uri": "https://localhost:8080/",
          "height": 533
        },
        "outputId": "70a3d874-c845-4ce4-80ff-9f82009dae12"
      },
      "source": [
        "plt.figure(figsize=(15,8))\n",
        "ax1=sns.lineplot( x='week_date' , y= 'new_tests', data=df_test_weekly[df_test_weekly['location']=='South Korea'], color='gray');\n",
        "ax2=ax1.twinx()\n",
        "sns.scatterplot( x='week_date' , y= 'new_cases', data=df_test_weekly[df_test_weekly['location']=='South Korea'], ax=ax2, color='red');\n",
        "plt.xlabel('Date')\n",
        "plt.xlim(pd.to_datetime('2019-12-31'),pd.to_datetime('2020-06-01'))\n",
        "#plt.ylabel('numbers of tests')\n",
        "plt.xticks(rotation=90),"
      ],
      "execution_count": null,
      "outputs": [
        {
          "output_type": "execute_result",
          "data": {
            "text/plain": [
              "((array([737425., 737456., 737485., 737516., 737546., 737577.]),\n",
              "  <a list of 6 Text major ticklabel objects>),)"
            ]
          },
          "metadata": {
            "tags": []
          },
          "execution_count": 244
        },
        {
          "output_type": "display_data",
          "data": {
            "image/png": "[encoded data removed]",
            "text/plain": [
              "<Figure size 1080x576 with 2 Axes>"
            ]
          },
          "metadata": {
            "tags": [],
            "needs_background": "light"
          }
        }
      ]
    },
    {
      "cell_type": "code",
      "metadata": {
        "id": "W0bAKgKHpk02",
        "colab_type": "code",
        "colab": {}
      },
      "source": [
        ""
      ],
      "execution_count": null,
      "outputs": []
    },
    {
      "cell_type": "code",
      "metadata": {
        "colab_type": "code",
        "id": "GXXeiscGuPY3",
        "colab": {
          "base_uri": "https://localhost:8080/",
          "height": 532
        },
        "outputId": "96d92e82-e7f8-451b-9273-25df1d71e6f7"
      },
      "source": [
        "plt.figure(figsize=(15,8))\n",
        "ax1=sns.lineplot( x='week_date' , y= 'new_tests', data=df_test_weekly[df_test_weekly['location']=='Italy'], color='gray');\n",
        "ax2=ax1.twinx()\n",
        "sns.scatterplot( x='week_date' , y= 'new_cases', data=df_test_weekly[df_test_weekly['location']=='Italy'], ax=ax2, color='red');\n",
        "plt.xlabel('Date')\n",
        "plt.xlim(pd.to_datetime('2019-12-31'),pd.to_datetime('2020-06-01'))\n",
        "#plt.ylabel('numbers of tests')\n",
        "plt.xticks(rotation=90),"
      ],
      "execution_count": null,
      "outputs": [
        {
          "output_type": "execute_result",
          "data": {
            "text/plain": [
              "((array([737425., 737456., 737485., 737516., 737546., 737577.]),\n",
              "  <a list of 6 Text major ticklabel objects>),)"
            ]
          },
          "metadata": {
            "tags": []
          },
          "execution_count": 245
        },
        {
          "output_type": "display_data",
          "data": {
            "image/png": "[encoded data removed]",
            "text/plain": [
              "<Figure size 1080x576 with 2 Axes>"
            ]
          },
          "metadata": {
            "tags": [],
            "needs_background": "light"
          }
        }
      ]
    },
    {
      "cell_type": "code",
      "metadata": {
        "id": "ki8eAyYsuS-_",
        "colab_type": "code",
        "colab": {}
      },
      "source": [
        ""
      ],
      "execution_count": null,
      "outputs": []
    },
    {
      "cell_type": "code",
      "metadata": {
        "colab_type": "code",
        "id": "Z6oQF035ucfr",
        "colab": {
          "base_uri": "https://localhost:8080/",
          "height": 532
        },
        "outputId": "842a5e3e-cf29-4d6b-c269-b293925bd84d"
      },
      "source": [
        "plt.figure(figsize=(15,8))\n",
        "ax1=sns.lineplot( x='week_date' , y= 'new_tests', data=df_test_weekly[df_test_weekly['location']=='India'], color='gray', legend='full');\n",
        "ax2=ax1.twinx()\n",
        "sns.scatterplot( x='week_date' , y= 'new_cases', data=df_test_weekly[df_test_weekly['location']=='India'], ax=ax2, color='red', legend='full');\n",
        "plt.xlabel('Date')\n",
        "plt.xlim(pd.to_datetime('2019-12-31'),pd.to_datetime('2020-06-01'))\n",
        "#plt.ylabel('numbers of tests')\n",
        "plt.xticks(rotation=90),"
      ],
      "execution_count": null,
      "outputs": [
        {
          "output_type": "execute_result",
          "data": {
            "text/plain": [
              "((array([737425., 737456., 737485., 737516., 737546., 737577.]),\n",
              "  <a list of 6 Text major ticklabel objects>),)"
            ]
          },
          "metadata": {
            "tags": []
          },
          "execution_count": 246
        },
        {
          "output_type": "display_data",
          "data": {
            "image/png": "[encoded data removed]",
            "text/plain": [
              "<Figure size 1080x576 with 2 Axes>"
            ]
          },
          "metadata": {
            "tags": [],
            "needs_background": "light"
          }
        }
      ]
    },
    {
      "cell_type": "code",
      "metadata": {
        "id": "c0xfKrFtugbW",
        "colab_type": "code",
        "colab": {}
      },
      "source": [
        ""
      ],
      "execution_count": null,
      "outputs": []
    }
  ]
}